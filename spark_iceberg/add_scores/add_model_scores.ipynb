{
 "cells": [
  {
   "cell_type": "code",
   "execution_count": 1,
   "metadata": {},
   "outputs": [],
   "source": [
    "#Spark\n",
    "from pyspark.sql import SparkSession\n",
    "from pyspark.sql import functions as f\n",
    "from pyspark.sql.types import *\n",
    "#Python standard library\n",
    "import json\n",
    "import os\n",
    "#Custom\n",
    "from spark_job_functions import *"
   ]
  },
  {
   "cell_type": "code",
   "execution_count": 2,
   "metadata": {},
   "outputs": [],
   "source": [
    "iceberg_warehouse = os.environ.get('ICEBERG_WAREHOUSE')\n",
    "spark = SparkSession.builder.config(conf=spark_config(iceberg_warehouse)).getOrCreate()"
   ]
  },
  {
   "cell_type": "code",
   "execution_count": 3,
   "metadata": {},
   "outputs": [],
   "source": [
    "model_scores = '../../tensorflow_model_train/DATA/nyt_text_scores.json'"
   ]
  },
  {
   "cell_type": "code",
   "execution_count": 9,
   "metadata": {},
   "outputs": [],
   "source": [
    "f = open(model_scores)\n",
    "data = json.load(f)"
   ]
  },
  {
   "cell_type": "code",
   "execution_count": 14,
   "metadata": {},
   "outputs": [],
   "source": [
    "spark_list = []\n",
    "for k, v in data.items():\n",
    "    article_id = v[0].get('article_id')\n",
    "    score = float(v[0].get('score'))\n",
    "    flattened = (article_id, score)\n",
    "    spark_list.append(flattened)"
   ]
  },
  {
   "cell_type": "code",
   "execution_count": 17,
   "metadata": {},
   "outputs": [
    {
     "name": "stdout",
     "output_type": "stream",
     "text": [
      "+--------------------+--------------+\n",
      "|          article_id|headline_score|\n",
      "+--------------------+--------------+\n",
      "|000e1b1f-0b85-5fa...|       0.10597|\n",
      "|0034945d-a1db-5d4...|        5.0E-5|\n",
      "|005c6dda-b20c-56d...|       0.04274|\n",
      "|0065ad23-e757-5eb...|       0.00866|\n",
      "|008676d5-264e-52d...|        0.0831|\n",
      "+--------------------+--------------+\n",
      "only showing top 5 rows\n",
      "\n"
     ]
    }
   ],
   "source": [
    "schema = StructType([\n",
    "   StructField('article_id', StringType(), False),\n",
    "   StructField('headline_score', FloatType(), False)])\n",
    "spark_df = spark.createDataFrame(spark_list, schema)\n",
    "spark_df.show(5)"
   ]
  },
  {
   "cell_type": "markdown",
   "metadata": {},
   "source": [
    "### Get Fact ID and add headline_score to fact table"
   ]
  },
  {
   "cell_type": "code",
   "execution_count": 20,
   "metadata": {},
   "outputs": [
    {
     "name": "stdout",
     "output_type": "stream",
     "text": [
      "+-------+--------------+\n",
      "|fact_id|headline_score|\n",
      "+-------+--------------+\n",
      "|   1000|       0.10597|\n",
      "|   1001|        5.0E-5|\n",
      "|   1002|       0.04274|\n",
      "|   1003|       0.00866|\n",
      "|   1004|        0.0831|\n",
      "+-------+--------------+\n",
      "only showing top 5 rows\n",
      "\n"
     ]
    }
   ],
   "source": [
    "id_df = spark.sql('SELECT * FROM nyt.db.article_ids')\n",
    "joined_scores = id_df.join(spark_df, ['article_id']).drop('article_id')\n",
    "joined_scores.show(5)"
   ]
  },
  {
   "cell_type": "markdown",
   "metadata": {},
   "source": [
    "### ALTER Fact table"
   ]
  },
  {
   "cell_type": "code",
   "execution_count": 22,
   "metadata": {},
   "outputs": [
    {
     "data": {
      "text/plain": [
       "DataFrame[]"
      ]
     },
     "execution_count": 22,
     "metadata": {},
     "output_type": "execute_result"
    }
   ],
   "source": [
    "alter_statement = \"\"\"\n",
    "                ALTER TABLE nyt.db.facts \n",
    "                ADD COLUMN\n",
    "                headline_sentiment_score float\n",
    "                ;\n",
    "                \"\"\"\n",
    "spark.sql(alter_statement)"
   ]
  },
  {
   "cell_type": "markdown",
   "metadata": {},
   "source": [
    "### Add the scores to the table"
   ]
  },
  {
   "cell_type": "code",
   "execution_count": 31,
   "metadata": {},
   "outputs": [
    {
     "name": "stderr",
     "output_type": "stream",
     "text": [
      "d:\\Projects\\news\\lib\\site-packages\\pyspark\\sql\\dataframe.py:329: FutureWarning: Deprecated in 2.0, use createOrReplaceTempView instead.\n",
      "  warnings.warn(\"Deprecated in 2.0, use createOrReplaceTempView instead.\", FutureWarning)\n"
     ]
    },
    {
     "data": {
      "text/plain": [
       "DataFrame[]"
      ]
     },
     "execution_count": 31,
     "metadata": {},
     "output_type": "execute_result"
    }
   ],
   "source": [
    "joined_scores.registerTempTable(\"scores\")\n",
    "\n",
    "merge_sql = \"\"\"\n",
    "    MERGE INTO nyt.db.facts t USING scores s\n",
    "    ON (t.fact_id = s.fact_id)\n",
    "    WHEN MATCHED\n",
    "        THEN UPDATE SET headline_sentiment_score = s.headline_score\n",
    "\"\"\"\n",
    "spark.sql(merge_sql)\n",
    "\n"
   ]
  },
  {
   "cell_type": "code",
   "execution_count": 35,
   "metadata": {},
   "outputs": [
    {
     "name": "stdout",
     "output_type": "stream",
     "text": [
      "+-------+----------------+----------+--------------+-------------+-----------------+--------+----------+-------------+---------------+------------+---------------+------------------------+\n",
      "|fact_id|publication_date|word_count|total_keywords|total_authors|words_in_headline|in_print|print_page|print_section|article_type_id|news_desk_id|section_name_id|headline_sentiment_score|\n",
      "+-------+----------------+----------+--------------+-------------+-----------------+--------+----------+-------------+---------------+------------+---------------+------------------------+\n",
      "+-------+----------------+----------+--------------+-------------+-----------------+--------+----------+-------------+---------------+------------+---------------+------------------------+\n",
      "\n"
     ]
    }
   ],
   "source": [
    "#Check for NULLS - Should be no rows returning\n",
    "test = spark.sql('SELECT * FROM nyt.db.facts WHERE headline_sentiment_score IS NULL')\n",
    "test.show()"
   ]
  },
  {
   "cell_type": "code",
   "execution_count": null,
   "metadata": {},
   "outputs": [],
   "source": []
  }
 ],
 "metadata": {
  "kernelspec": {
   "display_name": "news",
   "language": "python",
   "name": "python3"
  },
  "language_info": {
   "codemirror_mode": {
    "name": "ipython",
    "version": 3
   },
   "file_extension": ".py",
   "mimetype": "text/x-python",
   "name": "python",
   "nbconvert_exporter": "python",
   "pygments_lexer": "ipython3",
   "version": "3.10.11"
  }
 },
 "nbformat": 4,
 "nbformat_minor": 2
}
