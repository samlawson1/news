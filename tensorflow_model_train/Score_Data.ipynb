{
  "nbformat": 4,
  "nbformat_minor": 0,
  "metadata": {
    "colab": {
      "provenance": [],
      "mount_file_id": "1D25hDPSXpQSe2wdxyk6EfQWJUf_owmoA",
      "authorship_tag": "ABX9TyONJWvDzQa/BtnPZx6qSj4S",
      "include_colab_link": true
    },
    "kernelspec": {
      "name": "python3",
      "display_name": "Python 3"
    },
    "language_info": {
      "name": "python"
    }
  },
  "cells": [
    {
      "cell_type": "markdown",
      "metadata": {
        "id": "view-in-github",
        "colab_type": "text"
      },
      "source": [
        "<a href=\"https://colab.research.google.com/github/samlawson1/news/blob/TENSORFLOW_MODEL/tensorflow_model_train/Score_Data.ipynb\" target=\"_parent\"><img src=\"https://colab.research.google.com/assets/colab-badge.svg\" alt=\"Open In Colab\"/></a>"
      ]
    },
    {
      "cell_type": "code",
      "execution_count": null,
      "metadata": {
        "id": "Kic4UsaTQa3z"
      },
      "outputs": [],
      "source": [
        "import pandas as pd\n",
        "import os\n",
        "import tensorflow as tf\n",
        "import requests\n",
        "import json"
      ]
    },
    {
      "cell_type": "markdown",
      "source": [
        "### Prep data for scoring"
      ],
      "metadata": {
        "id": "YEdrYcYZj5w1"
      }
    },
    {
      "cell_type": "code",
      "source": [
        "text_data = 'drive/MyDrive/nyt_text_analysis/nyt_text/nyt_article_text.json'\n",
        "j = open(text_data)\n",
        "j = json.load(j)\n",
        "len(j.keys())"
      ],
      "metadata": {
        "colab": {
          "base_uri": "https://localhost:8080/"
        },
        "id": "hI3iCAq6sJgM",
        "outputId": "9d9861d7-ec95-4089-ad50-fbe9e6d14fe1"
      },
      "execution_count": null,
      "outputs": [
        {
          "output_type": "execute_result",
          "data": {
            "text/plain": [
              "4365"
            ]
          },
          "metadata": {},
          "execution_count": 2
        }
      ]
    },
    {
      "cell_type": "code",
      "source": [
        "article_ids = []\n",
        "headline_text = []\n",
        "for k, v in j.items():\n",
        "  article_ids.append(k)\n",
        "  headline = v.get('headline')\n",
        "  headline_text.append(headline)\n"
      ],
      "metadata": {
        "id": "vqCzib9rsWYP"
      },
      "execution_count": null,
      "outputs": []
    },
    {
      "cell_type": "markdown",
      "source": [
        "### Score the text"
      ],
      "metadata": {
        "id": "J04rRjoBj_rE"
      }
    },
    {
      "cell_type": "code",
      "source": [
        "model_loc = 'drive/MyDrive/nyt_text_analysis/model_v2/model.keras'"
      ],
      "metadata": {
        "id": "_8ZSMhOckc8p"
      },
      "execution_count": null,
      "outputs": []
    },
    {
      "cell_type": "code",
      "source": [
        "loaded_model = tf.keras.saving.load_model(model_loc)"
      ],
      "metadata": {
        "id": "DTABm1LIlPEy"
      },
      "execution_count": null,
      "outputs": []
    },
    {
      "cell_type": "code",
      "source": [
        "#Make Predictions\n",
        "predict_text = tf.constant(headline_text)\n",
        "scores = loaded_model.predict(predict_text)\n"
      ],
      "metadata": {
        "colab": {
          "base_uri": "https://localhost:8080/"
        },
        "id": "K_nJHjwanPnm",
        "outputId": "fec469da-ce83-437d-97b1-8d3db8777d24"
      },
      "execution_count": null,
      "outputs": [
        {
          "output_type": "stream",
          "name": "stdout",
          "text": [
            "137/137 [==============================] - 1s 3ms/step\n"
          ]
        }
      ]
    },
    {
      "cell_type": "code",
      "source": [
        "import numpy as np\n",
        "score_dict = {}\n",
        "for i in range(len(scores)):\n",
        "  score_rounded = np.array2string(scores[i][0].round(5))\n",
        "  s = {i:[{'article_id':article_ids[i],\n",
        "           'headline':headline_text[i],\n",
        "           'score':score_rounded}]}\n",
        "  score_dict.update(s)\n",
        "\n"
      ],
      "metadata": {
        "id": "UMHMMln9oPGr"
      },
      "execution_count": null,
      "outputs": []
    },
    {
      "cell_type": "code",
      "source": [
        "score_dict[60]\n"
      ],
      "metadata": {
        "colab": {
          "base_uri": "https://localhost:8080/"
        },
        "id": "LoBBVAzRqbRq",
        "outputId": "dc167489-ee54-4890-b67d-30c096d13122"
      },
      "execution_count": null,
      "outputs": [
        {
          "output_type": "execute_result",
          "data": {
            "text/plain": [
              "[{'article_id': '09dfbcc5-13b5-5cc0-9e03-516fc76397b9',\n",
              "  'headline': 'Brittany Howard Sings Through the Pangs of New Love',\n",
              "  'score': '0.99998'}]"
            ]
          },
          "metadata": {},
          "execution_count": 33
        }
      ]
    },
    {
      "cell_type": "code",
      "source": [
        "#save the json file\n",
        "out_path = 'drive/MyDrive/nyt_text_analysis/scores'\n",
        "if not os.path.exists(out_path):\n",
        "  os.mkdir(out_path)\n",
        "\n",
        "out_file = os.path.join(out_path, 'nyt_text_scores.json')\n",
        "with open(out_file, 'w') as f:\n",
        "    json.dump(score_dict, f)"
      ],
      "metadata": {
        "id": "Mbwc1eLM1IzE"
      },
      "execution_count": null,
      "outputs": []
    },
    {
      "cell_type": "code",
      "source": [],
      "metadata": {
        "id": "7O6cv5Bj3fQC"
      },
      "execution_count": null,
      "outputs": []
    }
  ]
}