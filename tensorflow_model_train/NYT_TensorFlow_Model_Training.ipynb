{
  "nbformat": 4,
  "nbformat_minor": 0,
  "metadata": {
    "colab": {
      "provenance": [],
      "mount_file_id": "1LAOLsTfgN3SOsUKK4WzwnPHuKSydTCQy",
      "authorship_tag": "ABX9TyPRviarJNAV9UmxXaJR5Ie8",
      "include_colab_link": true
    },
    "kernelspec": {
      "name": "python3",
      "display_name": "Python 3"
    },
    "language_info": {
      "name": "python"
    }
  },
  "cells": [
    {
      "cell_type": "markdown",
      "metadata": {
        "id": "view-in-github",
        "colab_type": "text"
      },
      "source": [
        "<a href=\"https://colab.research.google.com/github/samlawson1/news/blob/TENSORFLOW_MODEL/tensorflow_model_train/NYT_TensorFlow_Model_Training.ipynb\" target=\"_parent\"><img src=\"https://colab.research.google.com/assets/colab-badge.svg\" alt=\"Open In Colab\"/></a>"
      ]
    },
    {
      "cell_type": "markdown",
      "source": [
        "**TensorFlow Text Classification Model**\n",
        "\n",
        "- Training Dataset: [A Million News Headlines - Kaggle](https://www.kaggle.com/datasets/therohk/million-headlines) - Labeled & Filtered with Label_Text_For_Training.ipynb notebook\n",
        "\n",
        "1. Install dependencies [per TensorFlow docs](https://www.tensorflow.org/text/tutorials/classify_text_with_bert).\n",
        "\n",
        "\n",
        "> Google Colab is using tensorflow v 2.15.0. Will be using that instead of v 2.13.0 in the docs\n",
        "\n"
      ],
      "metadata": {
        "id": "0ti9hTaMksue"
      }
    },
    {
      "cell_type": "code",
      "execution_count": 1,
      "metadata": {
        "id": "bWH4DTUNkmyY"
      },
      "outputs": [],
      "source": [
        "# !pip install -q tfds-nightly\n",
        "# !pip install -U \"tensorflow-text==2.15.*\"\n",
        "# !pip install \"tf-models-official==2.15.*\"\n"
      ]
    },
    {
      "cell_type": "code",
      "source": [
        "import os\n",
        "import pandas as pd\n",
        "import numpy as np\n",
        "import random\n",
        "import math\n",
        "import tensorflow as tf\n",
        "import tensorflow_hub as hub\n",
        "import tensorflow_text as text\n",
        "from tensorflow.keras.preprocessing.text import Tokenizer\n",
        "from tensorflow.keras.preprocessing.sequence import pad_sequences\n",
        "from official.nlp import optimization\n",
        "\n",
        "tf.get_logger().setLevel('ERROR')"
      ],
      "metadata": {
        "id": "koV804lwmIDw"
      },
      "execution_count": 2,
      "outputs": []
    },
    {
      "cell_type": "code",
      "source": [
        "#Read in dataset with pandas and show values\n",
        "file = r'drive/MyDrive/tf_text_analysis/train_test_data.csv'\n",
        "df = pd.read_csv(file)\n",
        "print(df.shape)\n",
        "df.head()\n"
      ],
      "metadata": {
        "colab": {
          "base_uri": "https://localhost:8080/",
          "height": 224
        },
        "id": "MSINoJ_im3Gg",
        "outputId": "3516a6cc-8e3e-457d-a83b-b411f8f2b1fc"
      },
      "execution_count": 3,
      "outputs": [
        {
          "output_type": "stream",
          "name": "stdout",
          "text": [
            "(200000, 4)\n"
          ]
        },
        {
          "output_type": "execute_result",
          "data": {
            "text/plain": [
              "   publish_date                                      headline_text  \\\n",
              "0      20030219  barca take record as robson celebrates birthda...   \n",
              "1      20030219      big hopes for launceston cycling championship   \n",
              "2      20030219             big plan to boost paroo water supplies   \n",
              "3      20030219     brigadier dismisses reports troops harassed in   \n",
              "4      20030219    businesses should prepare for terrorist attacks   \n",
              "\n",
              "   AfinnScore  Label  \n",
              "0         3.0      1  \n",
              "1         3.0      1  \n",
              "2         2.0      1  \n",
              "3        -3.0      0  \n",
              "4        -3.0      0  "
            ],
            "text/html": [
              "\n",
              "  <div id=\"df-0d2bd43d-2090-4a71-89bb-474740bd3ead\" class=\"colab-df-container\">\n",
              "    <div>\n",
              "<style scoped>\n",
              "    .dataframe tbody tr th:only-of-type {\n",
              "        vertical-align: middle;\n",
              "    }\n",
              "\n",
              "    .dataframe tbody tr th {\n",
              "        vertical-align: top;\n",
              "    }\n",
              "\n",
              "    .dataframe thead th {\n",
              "        text-align: right;\n",
              "    }\n",
              "</style>\n",
              "<table border=\"1\" class=\"dataframe\">\n",
              "  <thead>\n",
              "    <tr style=\"text-align: right;\">\n",
              "      <th></th>\n",
              "      <th>publish_date</th>\n",
              "      <th>headline_text</th>\n",
              "      <th>AfinnScore</th>\n",
              "      <th>Label</th>\n",
              "    </tr>\n",
              "  </thead>\n",
              "  <tbody>\n",
              "    <tr>\n",
              "      <th>0</th>\n",
              "      <td>20030219</td>\n",
              "      <td>barca take record as robson celebrates birthda...</td>\n",
              "      <td>3.0</td>\n",
              "      <td>1</td>\n",
              "    </tr>\n",
              "    <tr>\n",
              "      <th>1</th>\n",
              "      <td>20030219</td>\n",
              "      <td>big hopes for launceston cycling championship</td>\n",
              "      <td>3.0</td>\n",
              "      <td>1</td>\n",
              "    </tr>\n",
              "    <tr>\n",
              "      <th>2</th>\n",
              "      <td>20030219</td>\n",
              "      <td>big plan to boost paroo water supplies</td>\n",
              "      <td>2.0</td>\n",
              "      <td>1</td>\n",
              "    </tr>\n",
              "    <tr>\n",
              "      <th>3</th>\n",
              "      <td>20030219</td>\n",
              "      <td>brigadier dismisses reports troops harassed in</td>\n",
              "      <td>-3.0</td>\n",
              "      <td>0</td>\n",
              "    </tr>\n",
              "    <tr>\n",
              "      <th>4</th>\n",
              "      <td>20030219</td>\n",
              "      <td>businesses should prepare for terrorist attacks</td>\n",
              "      <td>-3.0</td>\n",
              "      <td>0</td>\n",
              "    </tr>\n",
              "  </tbody>\n",
              "</table>\n",
              "</div>\n",
              "    <div class=\"colab-df-buttons\">\n",
              "\n",
              "  <div class=\"colab-df-container\">\n",
              "    <button class=\"colab-df-convert\" onclick=\"convertToInteractive('df-0d2bd43d-2090-4a71-89bb-474740bd3ead')\"\n",
              "            title=\"Convert this dataframe to an interactive table.\"\n",
              "            style=\"display:none;\">\n",
              "\n",
              "  <svg xmlns=\"http://www.w3.org/2000/svg\" height=\"24px\" viewBox=\"0 -960 960 960\">\n",
              "    <path d=\"M120-120v-720h720v720H120Zm60-500h600v-160H180v160Zm220 220h160v-160H400v160Zm0 220h160v-160H400v160ZM180-400h160v-160H180v160Zm440 0h160v-160H620v160ZM180-180h160v-160H180v160Zm440 0h160v-160H620v160Z\"/>\n",
              "  </svg>\n",
              "    </button>\n",
              "\n",
              "  <style>\n",
              "    .colab-df-container {\n",
              "      display:flex;\n",
              "      gap: 12px;\n",
              "    }\n",
              "\n",
              "    .colab-df-convert {\n",
              "      background-color: #E8F0FE;\n",
              "      border: none;\n",
              "      border-radius: 50%;\n",
              "      cursor: pointer;\n",
              "      display: none;\n",
              "      fill: #1967D2;\n",
              "      height: 32px;\n",
              "      padding: 0 0 0 0;\n",
              "      width: 32px;\n",
              "    }\n",
              "\n",
              "    .colab-df-convert:hover {\n",
              "      background-color: #E2EBFA;\n",
              "      box-shadow: 0px 1px 2px rgba(60, 64, 67, 0.3), 0px 1px 3px 1px rgba(60, 64, 67, 0.15);\n",
              "      fill: #174EA6;\n",
              "    }\n",
              "\n",
              "    .colab-df-buttons div {\n",
              "      margin-bottom: 4px;\n",
              "    }\n",
              "\n",
              "    [theme=dark] .colab-df-convert {\n",
              "      background-color: #3B4455;\n",
              "      fill: #D2E3FC;\n",
              "    }\n",
              "\n",
              "    [theme=dark] .colab-df-convert:hover {\n",
              "      background-color: #434B5C;\n",
              "      box-shadow: 0px 1px 3px 1px rgba(0, 0, 0, 0.15);\n",
              "      filter: drop-shadow(0px 1px 2px rgba(0, 0, 0, 0.3));\n",
              "      fill: #FFFFFF;\n",
              "    }\n",
              "  </style>\n",
              "\n",
              "    <script>\n",
              "      const buttonEl =\n",
              "        document.querySelector('#df-0d2bd43d-2090-4a71-89bb-474740bd3ead button.colab-df-convert');\n",
              "      buttonEl.style.display =\n",
              "        google.colab.kernel.accessAllowed ? 'block' : 'none';\n",
              "\n",
              "      async function convertToInteractive(key) {\n",
              "        const element = document.querySelector('#df-0d2bd43d-2090-4a71-89bb-474740bd3ead');\n",
              "        const dataTable =\n",
              "          await google.colab.kernel.invokeFunction('convertToInteractive',\n",
              "                                                    [key], {});\n",
              "        if (!dataTable) return;\n",
              "\n",
              "        const docLinkHtml = 'Like what you see? Visit the ' +\n",
              "          '<a target=\"_blank\" href=https://colab.research.google.com/notebooks/data_table.ipynb>data table notebook</a>'\n",
              "          + ' to learn more about interactive tables.';\n",
              "        element.innerHTML = '';\n",
              "        dataTable['output_type'] = 'display_data';\n",
              "        await google.colab.output.renderOutput(dataTable, element);\n",
              "        const docLink = document.createElement('div');\n",
              "        docLink.innerHTML = docLinkHtml;\n",
              "        element.appendChild(docLink);\n",
              "      }\n",
              "    </script>\n",
              "  </div>\n",
              "\n",
              "\n",
              "<div id=\"df-dfc2a637-3990-4d8d-8768-01fab4145af6\">\n",
              "  <button class=\"colab-df-quickchart\" onclick=\"quickchart('df-dfc2a637-3990-4d8d-8768-01fab4145af6')\"\n",
              "            title=\"Suggest charts\"\n",
              "            style=\"display:none;\">\n",
              "\n",
              "<svg xmlns=\"http://www.w3.org/2000/svg\" height=\"24px\"viewBox=\"0 0 24 24\"\n",
              "     width=\"24px\">\n",
              "    <g>\n",
              "        <path d=\"M19 3H5c-1.1 0-2 .9-2 2v14c0 1.1.9 2 2 2h14c1.1 0 2-.9 2-2V5c0-1.1-.9-2-2-2zM9 17H7v-7h2v7zm4 0h-2V7h2v10zm4 0h-2v-4h2v4z\"/>\n",
              "    </g>\n",
              "</svg>\n",
              "  </button>\n",
              "\n",
              "<style>\n",
              "  .colab-df-quickchart {\n",
              "      --bg-color: #E8F0FE;\n",
              "      --fill-color: #1967D2;\n",
              "      --hover-bg-color: #E2EBFA;\n",
              "      --hover-fill-color: #174EA6;\n",
              "      --disabled-fill-color: #AAA;\n",
              "      --disabled-bg-color: #DDD;\n",
              "  }\n",
              "\n",
              "  [theme=dark] .colab-df-quickchart {\n",
              "      --bg-color: #3B4455;\n",
              "      --fill-color: #D2E3FC;\n",
              "      --hover-bg-color: #434B5C;\n",
              "      --hover-fill-color: #FFFFFF;\n",
              "      --disabled-bg-color: #3B4455;\n",
              "      --disabled-fill-color: #666;\n",
              "  }\n",
              "\n",
              "  .colab-df-quickchart {\n",
              "    background-color: var(--bg-color);\n",
              "    border: none;\n",
              "    border-radius: 50%;\n",
              "    cursor: pointer;\n",
              "    display: none;\n",
              "    fill: var(--fill-color);\n",
              "    height: 32px;\n",
              "    padding: 0;\n",
              "    width: 32px;\n",
              "  }\n",
              "\n",
              "  .colab-df-quickchart:hover {\n",
              "    background-color: var(--hover-bg-color);\n",
              "    box-shadow: 0 1px 2px rgba(60, 64, 67, 0.3), 0 1px 3px 1px rgba(60, 64, 67, 0.15);\n",
              "    fill: var(--button-hover-fill-color);\n",
              "  }\n",
              "\n",
              "  .colab-df-quickchart-complete:disabled,\n",
              "  .colab-df-quickchart-complete:disabled:hover {\n",
              "    background-color: var(--disabled-bg-color);\n",
              "    fill: var(--disabled-fill-color);\n",
              "    box-shadow: none;\n",
              "  }\n",
              "\n",
              "  .colab-df-spinner {\n",
              "    border: 2px solid var(--fill-color);\n",
              "    border-color: transparent;\n",
              "    border-bottom-color: var(--fill-color);\n",
              "    animation:\n",
              "      spin 1s steps(1) infinite;\n",
              "  }\n",
              "\n",
              "  @keyframes spin {\n",
              "    0% {\n",
              "      border-color: transparent;\n",
              "      border-bottom-color: var(--fill-color);\n",
              "      border-left-color: var(--fill-color);\n",
              "    }\n",
              "    20% {\n",
              "      border-color: transparent;\n",
              "      border-left-color: var(--fill-color);\n",
              "      border-top-color: var(--fill-color);\n",
              "    }\n",
              "    30% {\n",
              "      border-color: transparent;\n",
              "      border-left-color: var(--fill-color);\n",
              "      border-top-color: var(--fill-color);\n",
              "      border-right-color: var(--fill-color);\n",
              "    }\n",
              "    40% {\n",
              "      border-color: transparent;\n",
              "      border-right-color: var(--fill-color);\n",
              "      border-top-color: var(--fill-color);\n",
              "    }\n",
              "    60% {\n",
              "      border-color: transparent;\n",
              "      border-right-color: var(--fill-color);\n",
              "    }\n",
              "    80% {\n",
              "      border-color: transparent;\n",
              "      border-right-color: var(--fill-color);\n",
              "      border-bottom-color: var(--fill-color);\n",
              "    }\n",
              "    90% {\n",
              "      border-color: transparent;\n",
              "      border-bottom-color: var(--fill-color);\n",
              "    }\n",
              "  }\n",
              "</style>\n",
              "\n",
              "  <script>\n",
              "    async function quickchart(key) {\n",
              "      const quickchartButtonEl =\n",
              "        document.querySelector('#' + key + ' button');\n",
              "      quickchartButtonEl.disabled = true;  // To prevent multiple clicks.\n",
              "      quickchartButtonEl.classList.add('colab-df-spinner');\n",
              "      try {\n",
              "        const charts = await google.colab.kernel.invokeFunction(\n",
              "            'suggestCharts', [key], {});\n",
              "      } catch (error) {\n",
              "        console.error('Error during call to suggestCharts:', error);\n",
              "      }\n",
              "      quickchartButtonEl.classList.remove('colab-df-spinner');\n",
              "      quickchartButtonEl.classList.add('colab-df-quickchart-complete');\n",
              "    }\n",
              "    (() => {\n",
              "      let quickchartButtonEl =\n",
              "        document.querySelector('#df-dfc2a637-3990-4d8d-8768-01fab4145af6 button');\n",
              "      quickchartButtonEl.style.display =\n",
              "        google.colab.kernel.accessAllowed ? 'block' : 'none';\n",
              "    })();\n",
              "  </script>\n",
              "</div>\n",
              "\n",
              "    </div>\n",
              "  </div>\n"
            ],
            "application/vnd.google.colaboratory.intrinsic+json": {
              "type": "dataframe",
              "variable_name": "df"
            }
          },
          "metadata": {},
          "execution_count": 3
        }
      ]
    },
    {
      "cell_type": "code",
      "source": [
        "#Split into train, validation, and test datasets\n",
        "\n",
        "pos = df.loc[df['Label'] == 1].reset_index(drop = True)\n",
        "neg = df.loc[df['Label'] == 0].reset_index(drop = True)\n",
        "\n",
        "#random shuffle datasets so they aren't ordered by date\n",
        "\n",
        "pos_i = list(pos.index)\n",
        "neg_i = list(neg.index)\n",
        "\n",
        "random.shuffle(pos_i)\n",
        "random.shuffle(neg_i)\n",
        "\n",
        "#use iloc to reorder and create new index\n",
        "pos = pos.iloc[pos_i].reset_index(drop = True)\n",
        "neg = neg.iloc[neg_i].reset_index(drop = True)\n",
        "\n",
        "#100K positive and negative records\n",
        "print(len(pos), len(neg))\n",
        "\n",
        "#Split into train and test - 80% Train / 20% Test\n",
        "#Function\n",
        "def split_data(df, num):\n",
        "  split_point = math.ceil(len(df) * num)\n",
        "  train_text = list(df.iloc[:split_point]['headline_text'])\n",
        "  train_labels = list(df.iloc[:split_point]['Label'])\n",
        "\n",
        "  test_text = list(df.iloc[split_point:]['headline_text'])\n",
        "  test_labels = list(df.iloc[split_point:]['Label'])\n",
        "\n",
        "  return(train_text, train_labels, test_text, test_labels)\n"
      ],
      "metadata": {
        "colab": {
          "base_uri": "https://localhost:8080/"
        },
        "id": "IivZtg2ig4Wi",
        "outputId": "7a1a4d89-d23e-448c-b685-2bddbebb54cf"
      },
      "execution_count": 4,
      "outputs": [
        {
          "output_type": "stream",
          "name": "stdout",
          "text": [
            "100000 100000\n"
          ]
        }
      ]
    },
    {
      "cell_type": "code",
      "source": [
        "pos_train_text, pos_train_labels, pos_test_text, pos_text_labels = split_data(pos, 0.8)\n",
        "neg_train_text, neg_train_labels, neg_test_text, neg_text_labels = split_data(neg, 0.8)\n",
        "\n",
        "#test data\n",
        "test_text = pos_test_text + neg_test_text\n",
        "test_labels = pos_text_labels + neg_text_labels\n",
        "\n",
        "train_text = pos_train_text + neg_train_text\n",
        "train_labels = pos_train_labels + neg_train_labels\n",
        "\n",
        "print(f'Train Data Size: {len(train_text)}')\n",
        "print(f'Test Data Size: {len(test_text)}')\n",
        "print(f'Total Data Check: {len(train_text) + len(test_text)}')"
      ],
      "metadata": {
        "colab": {
          "base_uri": "https://localhost:8080/"
        },
        "id": "Kp7YdouFjmN8",
        "outputId": "47e395d3-39b9-4b3e-8eb1-65310972b44b"
      },
      "execution_count": 5,
      "outputs": [
        {
          "output_type": "stream",
          "name": "stdout",
          "text": [
            "Train Data Size: 160000\n",
            "Test Data Size: 40000\n",
            "Total Data Check: 200000\n"
          ]
        }
      ]
    },
    {
      "cell_type": "code",
      "source": [
        "#Create validation subset of train data\n",
        "\n",
        "#Make df to reshuffle pos and neg\n",
        "\n",
        "train_df = pd.DataFrame({\n",
        "    'headline_text':train_text,\n",
        "    'Label':train_labels\n",
        "})\n",
        "\n",
        "train_pos = train_df.loc[train_df['Label'] == 1].reset_index(drop = True)\n",
        "train_neg = train_df.loc[train_df['Label'] == 0].reset_index(drop = True)\n",
        "\n",
        "pos_train_text_final, pos_train_labels_final, pos_val_text, pos_val_labels = split_data(train_pos, 0.8)\n",
        "neg_train_text_final, neg_train_labels_final, neg_val_text, neg_val_labels = split_data(train_neg, 0.8)\n",
        "\n",
        "train_text_final = pos_train_text_final + neg_train_text_final\n",
        "train_labels_final = pos_train_labels_final + neg_train_labels_final\n",
        "\n",
        "val_text = pos_val_text + neg_val_text\n",
        "val_labels = pos_val_labels + neg_val_labels\n",
        "\n",
        "\n",
        "#Make labels numpy arrays\n",
        "test_labels = np.array(test_labels)\n",
        "train_labels_final = np.array(train_labels_final)\n",
        "val_labels = np.array(val_labels)"
      ],
      "metadata": {
        "id": "c8x-z8h4kAdn"
      },
      "execution_count": 6,
      "outputs": []
    },
    {
      "cell_type": "code",
      "source": [
        "print(f'Final Training Data Volume: {len(train_text_final)}')\n",
        "print(f'Validation Data Volume: {len(val_text)}')\n",
        "print(f'Testing Data Volume: {len(test_text)}')"
      ],
      "metadata": {
        "colab": {
          "base_uri": "https://localhost:8080/"
        },
        "id": "6ZKJkPNAoxGe",
        "outputId": "e9316041-cf3b-42e8-eab2-879ae435fc02"
      },
      "execution_count": 7,
      "outputs": [
        {
          "output_type": "stream",
          "name": "stdout",
          "text": [
            "Final Training Data Volume: 128000\n",
            "Validation Data Volume: 32000\n",
            "Testing Data Volume: 40000\n"
          ]
        }
      ]
    },
    {
      "cell_type": "code",
      "source": [
        "#initiate Tokenizer object\n",
        "vocab = 5000\n",
        "max_len = 10\n",
        "tokenizer = Tokenizer(num_words=vocab,oov_token='<OOV>')\n",
        "tokenizer.fit_on_texts(train_text)\n",
        "word_index = tokenizer.word_index\n",
        "\n",
        "#training sequences\n",
        "train_sequences = tokenizer.texts_to_sequences(train_text_final)\n",
        "train_pad = pad_sequences(train_sequences, padding='post', maxlen = max_len)\n",
        "\n",
        "#validation sequences\n",
        "val_sequences = tokenizer.texts_to_sequences(val_text)\n",
        "val_pad = pad_sequences(val_sequences, padding='post', maxlen = max_len)\n",
        "\n",
        "#test sequences\n",
        "test_sequences = tokenizer.texts_to_sequences(test_text)\n",
        "test_pad = pad_sequences(test_sequences, padding = 'post', maxlen = max_len)\n",
        "\n",
        "\n"
      ],
      "metadata": {
        "id": "BUigkONG0yUz"
      },
      "execution_count": 19,
      "outputs": []
    },
    {
      "cell_type": "code",
      "source": [
        "#Create Model\n",
        "model = tf.keras.Sequential([\n",
        "    tf.keras.layers.Embedding(vocab, 5, input_length = max_len),\n",
        "    tf.keras.layers.GlobalAveragePooling1D(),\n",
        "    tf.keras.layers.Dense(24, activation='relu'),\n",
        "    tf.keras.layers.Dense(1, activation='sigmoid')\n",
        "])\n",
        "model.compile(loss='binary_crossentropy', optimizer='adam', metrics=['accuracy'])"
      ],
      "metadata": {
        "id": "cBb3QSiLIMOs"
      },
      "execution_count": 24,
      "outputs": []
    },
    {
      "cell_type": "code",
      "source": [
        "#Train and Validate\n",
        "num_epochs = 30\n",
        "history = model.fit(train_pad, train_labels_final, epochs = num_epochs,\n",
        "                    validation_data=(val_pad, val_labels), verbose=2)"
      ],
      "metadata": {
        "colab": {
          "base_uri": "https://localhost:8080/"
        },
        "id": "o5JW5gzkeH8G",
        "outputId": "371af5f6-1bbf-4de8-e6e8-f40589199f97"
      },
      "execution_count": 25,
      "outputs": [
        {
          "output_type": "stream",
          "name": "stdout",
          "text": [
            "Epoch 1/30\n",
            "4000/4000 - 9s - loss: 0.2427 - accuracy: 0.9103 - val_loss: 0.1339 - val_accuracy: 0.9611 - 9s/epoch - 2ms/step\n",
            "Epoch 2/30\n",
            "4000/4000 - 11s - loss: 0.1210 - accuracy: 0.9648 - val_loss: 0.1229 - val_accuracy: 0.9666 - 11s/epoch - 3ms/step\n",
            "Epoch 3/30\n",
            "4000/4000 - 8s - loss: 0.1130 - accuracy: 0.9673 - val_loss: 0.1202 - val_accuracy: 0.9660 - 8s/epoch - 2ms/step\n",
            "Epoch 4/30\n",
            "4000/4000 - 9s - loss: 0.1082 - accuracy: 0.9690 - val_loss: 0.1159 - val_accuracy: 0.9676 - 9s/epoch - 2ms/step\n",
            "Epoch 5/30\n",
            "4000/4000 - 9s - loss: 0.1026 - accuracy: 0.9698 - val_loss: 0.1143 - val_accuracy: 0.9676 - 9s/epoch - 2ms/step\n",
            "Epoch 6/30\n",
            "4000/4000 - 8s - loss: 0.0985 - accuracy: 0.9706 - val_loss: 0.1152 - val_accuracy: 0.9679 - 8s/epoch - 2ms/step\n",
            "Epoch 7/30\n",
            "4000/4000 - 9s - loss: 0.0946 - accuracy: 0.9710 - val_loss: 0.1164 - val_accuracy: 0.9680 - 9s/epoch - 2ms/step\n",
            "Epoch 8/30\n",
            "4000/4000 - 7s - loss: 0.0914 - accuracy: 0.9711 - val_loss: 0.1168 - val_accuracy: 0.9682 - 7s/epoch - 2ms/step\n",
            "Epoch 9/30\n",
            "4000/4000 - 12s - loss: 0.0886 - accuracy: 0.9716 - val_loss: 0.1201 - val_accuracy: 0.9688 - 12s/epoch - 3ms/step\n",
            "Epoch 10/30\n",
            "4000/4000 - 9s - loss: 0.0862 - accuracy: 0.9719 - val_loss: 0.1202 - val_accuracy: 0.9691 - 9s/epoch - 2ms/step\n",
            "Epoch 11/30\n",
            "4000/4000 - 8s - loss: 0.0840 - accuracy: 0.9722 - val_loss: 0.1224 - val_accuracy: 0.9687 - 8s/epoch - 2ms/step\n",
            "Epoch 12/30\n",
            "4000/4000 - 9s - loss: 0.0822 - accuracy: 0.9722 - val_loss: 0.1271 - val_accuracy: 0.9687 - 9s/epoch - 2ms/step\n",
            "Epoch 13/30\n",
            "4000/4000 - 8s - loss: 0.0802 - accuracy: 0.9726 - val_loss: 0.1289 - val_accuracy: 0.9693 - 8s/epoch - 2ms/step\n",
            "Epoch 14/30\n",
            "4000/4000 - 9s - loss: 0.0783 - accuracy: 0.9727 - val_loss: 0.1313 - val_accuracy: 0.9682 - 9s/epoch - 2ms/step\n",
            "Epoch 15/30\n",
            "4000/4000 - 8s - loss: 0.0765 - accuracy: 0.9733 - val_loss: 0.1306 - val_accuracy: 0.9686 - 8s/epoch - 2ms/step\n",
            "Epoch 16/30\n",
            "4000/4000 - 9s - loss: 0.0745 - accuracy: 0.9736 - val_loss: 0.1354 - val_accuracy: 0.9682 - 9s/epoch - 2ms/step\n",
            "Epoch 17/30\n",
            "4000/4000 - 9s - loss: 0.0726 - accuracy: 0.9741 - val_loss: 0.1380 - val_accuracy: 0.9682 - 9s/epoch - 2ms/step\n",
            "Epoch 18/30\n",
            "4000/4000 - 8s - loss: 0.0706 - accuracy: 0.9745 - val_loss: 0.1417 - val_accuracy: 0.9679 - 8s/epoch - 2ms/step\n",
            "Epoch 19/30\n",
            "4000/4000 - 9s - loss: 0.0685 - accuracy: 0.9752 - val_loss: 0.1452 - val_accuracy: 0.9669 - 9s/epoch - 2ms/step\n",
            "Epoch 20/30\n",
            "4000/4000 - 8s - loss: 0.0666 - accuracy: 0.9760 - val_loss: 0.1507 - val_accuracy: 0.9657 - 8s/epoch - 2ms/step\n",
            "Epoch 21/30\n",
            "4000/4000 - 10s - loss: 0.0647 - accuracy: 0.9769 - val_loss: 0.1541 - val_accuracy: 0.9648 - 10s/epoch - 2ms/step\n",
            "Epoch 22/30\n",
            "4000/4000 - 9s - loss: 0.0632 - accuracy: 0.9772 - val_loss: 0.1580 - val_accuracy: 0.9638 - 9s/epoch - 2ms/step\n",
            "Epoch 23/30\n",
            "4000/4000 - 9s - loss: 0.0615 - accuracy: 0.9780 - val_loss: 0.1645 - val_accuracy: 0.9640 - 9s/epoch - 2ms/step\n",
            "Epoch 24/30\n",
            "4000/4000 - 10s - loss: 0.0601 - accuracy: 0.9786 - val_loss: 0.1684 - val_accuracy: 0.9632 - 10s/epoch - 3ms/step\n",
            "Epoch 25/30\n",
            "4000/4000 - 8s - loss: 0.0584 - accuracy: 0.9790 - val_loss: 0.1745 - val_accuracy: 0.9630 - 8s/epoch - 2ms/step\n",
            "Epoch 26/30\n",
            "4000/4000 - 10s - loss: 0.0571 - accuracy: 0.9794 - val_loss: 0.1780 - val_accuracy: 0.9606 - 10s/epoch - 2ms/step\n",
            "Epoch 27/30\n",
            "4000/4000 - 10s - loss: 0.0556 - accuracy: 0.9799 - val_loss: 0.1817 - val_accuracy: 0.9607 - 10s/epoch - 2ms/step\n",
            "Epoch 28/30\n",
            "4000/4000 - 8s - loss: 0.0543 - accuracy: 0.9802 - val_loss: 0.1866 - val_accuracy: 0.9614 - 8s/epoch - 2ms/step\n",
            "Epoch 29/30\n",
            "4000/4000 - 10s - loss: 0.0530 - accuracy: 0.9808 - val_loss: 0.1958 - val_accuracy: 0.9583 - 10s/epoch - 2ms/step\n",
            "Epoch 30/30\n",
            "4000/4000 - 8s - loss: 0.0517 - accuracy: 0.9815 - val_loss: 0.2001 - val_accuracy: 0.9590 - 8s/epoch - 2ms/step\n"
          ]
        }
      ]
    },
    {
      "cell_type": "code",
      "source": [
        "#Test - 96% accuracy!\n",
        "loss, accuracy = model.evaluate(test_pad, test_labels)"
      ],
      "metadata": {
        "colab": {
          "base_uri": "https://localhost:8080/"
        },
        "id": "bapW2b2hqDLI",
        "outputId": "7bdf3dcd-f571-475c-a791-757dad3d9e27"
      },
      "execution_count": 28,
      "outputs": [
        {
          "output_type": "stream",
          "name": "stdout",
          "text": [
            "1250/1250 [==============================] - 3s 2ms/step - loss: 0.1949 - accuracy: 0.9582\n"
          ]
        }
      ]
    },
    {
      "cell_type": "code",
      "source": [
        "#Save\n",
        "dir = 'drive/MyDrive/tf_text_analysis'\n",
        "model_folder = 'model'\n",
        "save_path = os.path.join(dir, model_folder)\n",
        "if not os.path.exists(save_path):\n",
        "  os.mkdir(save_path)\n"
      ],
      "metadata": {
        "id": "ikZVyhKdv2xz"
      },
      "execution_count": 32,
      "outputs": []
    },
    {
      "cell_type": "code",
      "source": [
        "model.save(save_path, include_optimizer=True)"
      ],
      "metadata": {
        "id": "sRjAqnX4wOki"
      },
      "execution_count": 33,
      "outputs": []
    }
  ]
}