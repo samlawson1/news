{
 "cells": [
  {
   "cell_type": "code",
   "execution_count": 2,
   "metadata": {},
   "outputs": [],
   "source": [
    "from pyspark import SparkConf\n",
    "from pyspark.sql import SparkSession\n",
    "import os"
   ]
  },
  {
   "cell_type": "code",
   "execution_count": 3,
   "metadata": {},
   "outputs": [],
   "source": [
    "iceberg_warehouse = os.environ.get('ICEBERG_WAREHOUSE')\n",
    "db_user = os.environ.get('DB_USER')\n",
    "db_pass = os.environ.get('DB_PASS')\n",
    "\n",
    "configuration = SparkConf()\\\n",
    "    .setAppName('NYT_ArticleSearch')\\\n",
    "    .setMaster('local[4]')\\\n",
    "    .set('spark.sql.extensions', 'org.apache.iceberg.spark.extensions.IcebergSparkSessionExtensions')\\\n",
    "    .set('spark.sql.catalog.nyt', 'org.apache.iceberg.spark.SparkCatalog')\\\n",
    "    .set('spark.sql.catalog.nyt.type', 'hadoop')\\\n",
    "    .set('spark.sql.catalog.nyt.warehouse', iceberg_warehouse)\n",
    "\n",
    "\n",
    "spark = SparkSession.builder.config(conf=configuration).getOrCreate()\n",
    "    "
   ]
  },
  {
   "cell_type": "code",
   "execution_count": 4,
   "metadata": {},
   "outputs": [
    {
     "name": "stdout",
     "output_type": "stream",
     "text": [
      "\n",
      "    CREATE TABLE IF NOT EXISTS nyt.db.test ( \n",
      "    vendor_id INT , \n",
      "    trip_id INT, \n",
      "    trip_distance FLOAT, \n",
      "    fare_amount FLOAT, \n",
      "    store_and_fwd_flag VARCHAR(255) ) \n",
      "    USING iceberg PARTITIONED BY (vendor_id) \n",
      "    \n"
     ]
    },
    {
     "data": {
      "text/plain": [
       "DataFrame[]"
      ]
     },
     "execution_count": 4,
     "metadata": {},
     "output_type": "execute_result"
    }
   ],
   "source": [
    "create_table = \"\"\"\n",
    "    CREATE TABLE IF NOT EXISTS nyt.db.test ( \n",
    "    vendor_id INT , \n",
    "    trip_id INT, \n",
    "    trip_distance FLOAT, \n",
    "    fare_amount FLOAT, \n",
    "    store_and_fwd_flag VARCHAR(255) ) \n",
    "    USING iceberg PARTITIONED BY (vendor_id) \n",
    "    \"\"\"\n",
    "\n",
    "print(create_table)\n",
    "\n",
    "spark.sql(create_table)"
   ]
  },
  {
   "cell_type": "code",
   "execution_count": 7,
   "metadata": {},
   "outputs": [],
   "source": [
    "from pyspark.sql.types import DoubleType, FloatType, LongType, StructType,StructField, StringType\n",
    "\n",
    "\n",
    "\n",
    "\n",
    "schema = StructType([\n",
    "  StructField(\"vendor_id\", LongType(), True),\n",
    "  StructField(\"trip_id\", LongType(), True),\n",
    "  StructField(\"trip_distance\", FloatType(), True),\n",
    "  StructField(\"fare_amount\", DoubleType(), True),\n",
    "  StructField(\"store_and_fwd_flag\", StringType(), True)\n",
    "])\n",
    "\n",
    "df = spark.createDataFrame([(123, 456, 25.0, 50.75, 'X')], schema)\n",
    "df.writeTo('nyt.db.test').append()"
   ]
  },
  {
   "cell_type": "code",
   "execution_count": 8,
   "metadata": {},
   "outputs": [
    {
     "name": "stdout",
     "output_type": "stream",
     "text": [
      "+---------+-------+-------------+-----------+------------------+\n",
      "|vendor_id|trip_id|trip_distance|fare_amount|store_and_fwd_flag|\n",
      "+---------+-------+-------------+-----------+------------------+\n",
      "|      123|    456|         25.0|      50.75|                 X|\n",
      "+---------+-------+-------------+-----------+------------------+\n",
      "\n"
     ]
    }
   ],
   "source": [
    "data = spark.sql('SELECT * FROM nyt.db.test')\n",
    "data.show()"
   ]
  }
 ],
 "metadata": {
  "kernelspec": {
   "display_name": "news",
   "language": "python",
   "name": "python3"
  },
  "language_info": {
   "codemirror_mode": {
    "name": "ipython",
    "version": 3
   },
   "file_extension": ".py",
   "mimetype": "text/x-python",
   "name": "python",
   "nbconvert_exporter": "python",
   "pygments_lexer": "ipython3",
   "version": "3.10.11"
  }
 },
 "nbformat": 4,
 "nbformat_minor": 2
}
