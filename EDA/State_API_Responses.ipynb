{
 "cells": [
  {
   "cell_type": "markdown",
   "metadata": {},
   "source": [
    "### EDA For New York Times [Developer Article Search API](https://developer.nytimes.com/docs/articlesearch-product/1/overview) for how to approach project\n",
    "\n",
    "\n",
    "- I would like to lookup available content on the 50 states, create a database out of the JSON responses and ultimately conduct a [Sentiment analysis](https://www.tensorflow.org/tutorials/keras/text_classification). \n"
   ]
  },
  {
   "cell_type": "code",
   "execution_count": null,
   "metadata": {},
   "outputs": [],
   "source": [
    "import requests\n",
    "import os\n",
    "import pandas as pd \n",
    "import json\n",
    "import time\n"
   ]
  },
  {
   "cell_type": "code",
   "execution_count": null,
   "metadata": {},
   "outputs": [],
   "source": [
    "#List of US States\n",
    "state_names = [\"Alaska\", \"Alabama\", \"Arkansas\", \"Arizona\", \n",
    "               \"California\", \"Colorado\", \"Connecticut\", \n",
    "               \"Delaware\", \"Florida\", \"Georgia\", \"Hawaii\", \n",
    "               \"Iowa\", \"Idaho\", \"Illinois\", \"Indiana\", \n",
    "               \"Kansas\", \"Kentucky\", \"Louisiana\", \"Massachusetts\", \n",
    "               \"Maryland\", \"Maine\", \"Michigan\", \"Minnesota\", \"Missouri\", \n",
    "               \"Mississippi\", \"Montana\", \"North Carolina\", \"North Dakota\", \n",
    "               \"Nebraska\", \"New Hampshire\", \"New Jersey\", \"New Mexico\", \n",
    "               \"Nevada\", \"New York\", \"Ohio\", \"Oklahoma\", \"Oregon\", \"Pennsylvania\", \n",
    "               \"Rhode Island\", \"South Carolina\", \"South Dakota\", \"Tennessee\", \n",
    "               \"Texas\", \"Utah\", \"Virginia\", \"Vermont\", \"Washington\", \n",
    "               \"Wisconsin\", \"West Virginia\", \"Wyoming\"]\n",
    "\n",
    "#Uppercase everything\n",
    "state_names = sorted([s.upper() for s in state_names])\n",
    "print(len(state_names))\n",
    "print(state_names[0])\n"
   ]
  },
  {
   "cell_type": "code",
   "execution_count": null,
   "metadata": {},
   "outputs": [],
   "source": [
    "def get_paginated_responses(state, i):\n",
    "    #get the api key needed to request data\n",
    "    api_key = os.environ['API_KEY']\n",
    "    #Make state folders as you iterate in current working directory\n",
    "    out_folder = 'DATA'\n",
    "    state_path = os.path.join(out_folder, state)\n",
    "    if not os.path.exists(state_path):\n",
    "        os.mkdir(state_path)\n",
    "    #query filters\n",
    "    source = r'source:(\"The New York Times\")'\n",
    "    state_query = f'glocations:(\"{state}\")'\n",
    "    #file name. i = the paginated. There will be 10 total responses in each paginated response\n",
    "    file = f'{state}_page_{i}.json'\n",
    "    #define the output\n",
    "    out_path = os.path.join(state_path, file)\n",
    "    #Search articles about each state written by The New York Times since 2000\n",
    "    request_url = f'https://api.nytimes.com/svc/search/v2/articlesearch.json?fq={state_query} AND {source}\\\n",
    "        &begin_date=20000101&page={i}&api-key={api_key}'\n",
    "    r = requests.get(request_url)\n",
    "    api_response = json.loads(r.content)\n",
    "    #save the json file\n",
    "    with open(out_path, 'w') as f:\n",
    "        json.dump(api_response, f)\n",
    "    "
   ]
  },
  {
   "cell_type": "code",
   "execution_count": null,
   "metadata": {},
   "outputs": [],
   "source": [
    "#Get 10 paginated responses per state\n",
    "\n",
    "#Each response should have 10 articles - resulting in 100 articles per state\n",
    "ranges = [(i, i + 4) for i in range(0, 10) if i % 5 == 0]\n",
    "\n",
    "#Per the docs you can only make 5 calls per minute\n",
    "for state in state_names:\n",
    "    for r in ranges:\n",
    "        pages = [i for i in range(r[0], r[1] + 1)]\n",
    "        for page in pages:\n",
    "            get_paginated_responses(state, page)\n",
    "        #wait a 1:05 before making the next call\n",
    "        time.sleep(65)\n"
   ]
  },
  {
   "cell_type": "code",
   "execution_count": null,
   "metadata": {},
   "outputs": [],
   "source": []
  }
 ],
 "metadata": {
  "kernelspec": {
   "display_name": "Python 3",
   "language": "python",
   "name": "python3"
  },
  "language_info": {
   "codemirror_mode": {
    "name": "ipython",
    "version": 3
   },
   "file_extension": ".py",
   "mimetype": "text/x-python",
   "name": "python",
   "nbconvert_exporter": "python",
   "pygments_lexer": "ipython3",
   "version": "3.12.2"
  }
 },
 "nbformat": 4,
 "nbformat_minor": 2
}
