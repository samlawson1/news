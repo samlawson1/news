{
 "cells": [
  {
   "cell_type": "markdown",
   "metadata": {},
   "source": [
    "### EDA For New York Times [Developer Article Search API](https://developer.nytimes.com/docs/articlesearch-product/1/overview) for how to approach project\n",
    "\n",
    "\n",
    "- I would like to lookup available content on the 50 states, create a database out of the JSON responses and ultimately conduct a [Sentiment analysis](https://www.tensorflow.org/tutorials/keras/text_classification). \n"
   ]
  },
  {
   "cell_type": "code",
   "execution_count": 1,
   "metadata": {},
   "outputs": [],
   "source": [
    "import requests\n",
    "import os\n",
    "import pandas as pd \n",
    "import json\n"
   ]
  },
  {
   "cell_type": "code",
   "execution_count": 2,
   "metadata": {},
   "outputs": [
    {
     "name": "stdout",
     "output_type": "stream",
     "text": [
      "50\n",
      "ALASKA\n"
     ]
    }
   ],
   "source": [
    "#List of US States\n",
    "state_names = [\"Alaska\", \"Alabama\", \"Arkansas\", \"Arizona\", \n",
    "               \"California\", \"Colorado\", \"Connecticut\", \n",
    "               \"Delaware\", \"Florida\", \"Georgia\", \"Hawaii\", \n",
    "               \"Iowa\", \"Idaho\", \"Illinois\", \"Indiana\", \n",
    "               \"Kansas\", \"Kentucky\", \"Louisiana\", \"Massachusetts\", \n",
    "               \"Maryland\", \"Maine\", \"Michigan\", \"Minnesota\", \"Missouri\", \n",
    "               \"Mississippi\", \"Montana\", \"North Carolina\", \"North Dakota\", \n",
    "               \"Nebraska\", \"New Hampshire\", \"New Jersey\", \"New Mexico\", \n",
    "               \"Nevada\", \"New York\", \"Ohio\", \"Oklahoma\", \"Oregon\", \"Pennsylvania\", \n",
    "               \"Rhode Island\", \"South Carolina\", \"South Dakota\", \"Tennessee\", \n",
    "               \"Texas\", \"Utah\", \"Virginia\", \"Vermont\", \"Washington\", \n",
    "               \"Wisconsin\", \"West Virginia\", \"Wyoming\"]\n",
    "#Uppercase everything\n",
    "state_names = [s.upper() for s in state_names]\n",
    "print(len(state_names))\n",
    "print(state_names[0])\n"
   ]
  },
  {
   "cell_type": "code",
   "execution_count": 15,
   "metadata": {},
   "outputs": [],
   "source": [
    "#Get my API KEY\n",
    "api_key = os.environ['API_KEY']\n",
    "\n",
    "out_folder = 'DATA'\n",
    "\n",
    "\n",
    "#API Request for each state and save JSON file in DATA folder\n",
    "\n",
    "#Get results for each state and the National, Politics, OpEd, Opinion, U.S., and Week in Review News Desks\n",
    "desks = f'news_desk:(\"National\", \"Politics\", \"OpEd\", \"Opinion\", \"U.S.\", \"Week in Review\")'\n",
    "#Return only results from The New York Times\n",
    "source = r'source:(\"The New York Times\")'\n",
    "\n",
    "for state in state_names[10:]:\n",
    "    state_file = f'{state}.json'\n",
    "    path = os.path.join(out_folder, state_file)\n",
    "    state_query = f'fq={state}'\n",
    "    request_url = f'https://api.nytimes.com/svc/search/v2/articlesearch.json?{state_query} AND {desks} AND {source}&page=100&api-key={api_key}'\n",
    "    r = requests.get(request_url)\n",
    "    api_response = json.loads(r.content)\n",
    "    with open(path, 'w') as f:\n",
    "        json.dump(api_response, f)\n",
    "\n",
    "\n"
   ]
  },
  {
   "cell_type": "code",
   "execution_count": 14,
   "metadata": {},
   "outputs": [
    {
     "data": {
      "text/plain": [
       "['HAWAII',\n",
       " 'IOWA',\n",
       " 'IDAHO',\n",
       " 'ILLINOIS',\n",
       " 'INDIANA',\n",
       " 'KANSAS',\n",
       " 'KENTUCKY',\n",
       " 'LOUISIANA',\n",
       " 'MASSACHUSETTS',\n",
       " 'MARYLAND',\n",
       " 'MAINE',\n",
       " 'MICHIGAN',\n",
       " 'MINNESOTA',\n",
       " 'MISSOURI',\n",
       " 'MISSISSIPPI',\n",
       " 'MONTANA',\n",
       " 'NORTH CAROLINA',\n",
       " 'NORTH DAKOTA',\n",
       " 'NEBRASKA',\n",
       " 'NEW HAMPSHIRE',\n",
       " 'NEW JERSEY',\n",
       " 'NEW MEXICO',\n",
       " 'NEVADA',\n",
       " 'NEW YORK',\n",
       " 'OHIO',\n",
       " 'OKLAHOMA',\n",
       " 'OREGON',\n",
       " 'PENNSYLVANIA',\n",
       " 'RHODE ISLAND',\n",
       " 'SOUTH CAROLINA',\n",
       " 'SOUTH DAKOTA',\n",
       " 'TENNESSEE',\n",
       " 'TEXAS',\n",
       " 'UTAH',\n",
       " 'VIRGINIA',\n",
       " 'VERMONT',\n",
       " 'WASHINGTON',\n",
       " 'WISCONSIN',\n",
       " 'WEST VIRGINIA',\n",
       " 'WYOMING']"
      ]
     },
     "execution_count": 14,
     "metadata": {},
     "output_type": "execute_result"
    }
   ],
   "source": [
    "state_names[10:]"
   ]
  }
 ],
 "metadata": {
  "kernelspec": {
   "display_name": "Python 3",
   "language": "python",
   "name": "python3"
  },
  "language_info": {
   "codemirror_mode": {
    "name": "ipython",
    "version": 3
   },
   "file_extension": ".py",
   "mimetype": "text/x-python",
   "name": "python",
   "nbconvert_exporter": "python",
   "pygments_lexer": "ipython3",
   "version": "3.12.2"
  }
 },
 "nbformat": 4,
 "nbformat_minor": 2
}
