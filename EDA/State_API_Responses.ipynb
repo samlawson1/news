{
 "cells": [
  {
   "cell_type": "markdown",
   "metadata": {},
   "source": [
    "### EDA For New York Times [Developer Article Search API](https://developer.nytimes.com/docs/articlesearch-product/1/overview) for how to approach project\n",
    "\n",
    "\n",
    "- I would like to lookup available content on the 50 states, create a database out of the JSON responses and ultimately conduct a [Sentiment analysis](https://www.tensorflow.org/tutorials/keras/text_classification). \n"
   ]
  },
  {
   "cell_type": "code",
   "execution_count": 1,
   "metadata": {},
   "outputs": [],
   "source": [
    "import requests\n",
    "import os\n",
    "import pandas as pd \n",
    "import json\n"
   ]
  },
  {
   "cell_type": "code",
   "execution_count": 2,
   "metadata": {},
   "outputs": [
    {
     "name": "stdout",
     "output_type": "stream",
     "text": [
      "50\n",
      "ALASKA\n"
     ]
    }
   ],
   "source": [
    "#List of US States\n",
    "state_names = [\"Alaska\", \"Alabama\", \"Arkansas\", \"Arizona\", \n",
    "               \"California\", \"Colorado\", \"Connecticut\", \n",
    "               \"Delaware\", \"Florida\", \"Georgia\", \"Hawaii\", \n",
    "               \"Iowa\", \"Idaho\", \"Illinois\", \"Indiana\", \n",
    "               \"Kansas\", \"Kentucky\", \"Louisiana\", \"Massachusetts\", \n",
    "               \"Maryland\", \"Maine\", \"Michigan\", \"Minnesota\", \"Missouri\", \n",
    "               \"Mississippi\", \"Montana\", \"North Carolina\", \"North Dakota\", \n",
    "               \"Nebraska\", \"New Hampshire\", \"New Jersey\", \"New Mexico\", \n",
    "               \"Nevada\", \"New York\", \"Ohio\", \"Oklahoma\", \"Oregon\", \"Pennsylvania\", \n",
    "               \"Rhode Island\", \"South Carolina\", \"South Dakota\", \"Tennessee\", \n",
    "               \"Texas\", \"Utah\", \"Virginia\", \"Vermont\", \"Washington\", \n",
    "               \"Wisconsin\", \"West Virginia\", \"Wyoming\"]\n",
    "#Uppercase everything\n",
    "state_names = [s.upper() for s in state_names]\n",
    "print(len(state_names))\n",
    "print(state_names[0])\n"
   ]
  },
  {
   "cell_type": "code",
   "execution_count": 3,
   "metadata": {},
   "outputs": [],
   "source": [
    "# #Get my API KEY\n",
    "# api_key = os.environ['API_KEY']\n",
    "\n",
    "# out_folder = 'DATA'\n",
    "\n",
    "\n",
    "# #API Request for each state and save JSON file in DATA folder\n",
    "\n",
    "# #Get results for each state and the National, Politics, OpEd, Opinion, U.S., and Week in Review News Desks\n",
    "# #desks = f'news_desk:(\"National\", \"Politics\", \"OpEd\", \"Opinion\", \"U.S.\", \"Week in Review\")'\n",
    "# #Return only results from The New York Times\n",
    "# source = r'source:(\"The New York Times\")'\n",
    "\n",
    "# for state in state_names:\n",
    "#     state_path = os.path.join(out_folder, state)\n",
    "#     if not os.path.exists(state_path):\n",
    "#         os.mkdir(state_path)\n",
    "#     #Filter where the article is about the state\n",
    "#     state_query = f'glocations:(\"{state}\")'\n",
    "#     #paginate up to 100\n",
    "#     for i in range(101):\n",
    "#         file = f'{state}_page_{i}.json'\n",
    "#         out_path = os.path.join(state_path, file)\n",
    "#         request_url = f'https://api.nytimes.com/svc/search/v2/articlesearch.json?fq={state_query} AND {source}&page={i}&api-key={api_key}'\n",
    "#         r = requests.get(request_url)\n",
    "#         api_response = json.loads(r.content)\n",
    "#         with open(out_path, 'w') as f:\n",
    "#             json.dump(api_response, f)\n",
    "\n",
    "\n"
   ]
  },
  {
   "cell_type": "code",
   "execution_count": 4,
   "metadata": {},
   "outputs": [],
   "source": [
    "def get_paginated_responses(state, i):\n",
    "    api_key = os.environ['API_KEY']\n",
    "    out_folder = 'DATA'\n",
    "    source = r'source:(\"The New York Times\")'\n",
    "    state_path = os.path.join(out_folder, state)\n",
    "    if not os.path.exists(state_path):\n",
    "        os.mkdir(state_path)\n",
    "    state_query = f'glocations:(\"{state}\")'\n",
    "    file = f'{state}_page_{i}.json'\n",
    "    out_path = os.path.join(state_path, file)\n",
    "    request_url = f'https://api.nytimes.com/svc/search/v2/articlesearch.json?fq={state_query} AND {source}&page={i}&api-key={api_key}'\n",
    "    r = requests.get(request_url)\n",
    "    api_response = json.loads(r.content)\n",
    "    with open(out_path, 'w') as f:\n",
    "        json.dump(api_response, f)\n",
    "    "
   ]
  },
  {
   "cell_type": "code",
   "execution_count": 5,
   "metadata": {},
   "outputs": [],
   "source": [
    "for i in range(35, 35):\n",
    "    get_paginated_responses('ALASKA', i)"
   ]
  }
 ],
 "metadata": {
  "kernelspec": {
   "display_name": "Python 3",
   "language": "python",
   "name": "python3"
  },
  "language_info": {
   "codemirror_mode": {
    "name": "ipython",
    "version": 3
   },
   "file_extension": ".py",
   "mimetype": "text/x-python",
   "name": "python",
   "nbconvert_exporter": "python",
   "pygments_lexer": "ipython3",
   "version": "3.12.2"
  }
 },
 "nbformat": 4,
 "nbformat_minor": 2
}
