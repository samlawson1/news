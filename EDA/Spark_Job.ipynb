{
 "cells": [
  {
   "cell_type": "code",
   "execution_count": 1,
   "metadata": {},
   "outputs": [],
   "source": [
    "from nyt_article_search import JSONParse\n",
    "from pyspark.sql import SparkSession\n",
    "from pyspark.sql import Window\n",
    "from pyspark.sql import functions as f\n",
    "from pyspark.sql.types import *\n",
    "import pandas as pd\n",
    "import json\n",
    "import os"
   ]
  },
  {
   "cell_type": "markdown",
   "metadata": {},
   "source": [
    "### Load JSONs and transform in to lists of tuples"
   ]
  },
  {
   "cell_type": "code",
   "execution_count": 2,
   "metadata": {},
   "outputs": [],
   "source": [
    "# Function to extend each list as we parse the jsons\n",
    "# The get_article_authors and  search_article_keywords methods\n",
    "# return a list of tuples so this will create one master list of all tuples\n",
    "def extend_list(list_name, function_result):\n",
    "    if function_result != None:\n",
    "        list_name.extend(function_result)\n",
    "    else:\n",
    "        pass"
   ]
  },
  {
   "cell_type": "code",
   "execution_count": 3,
   "metadata": {},
   "outputs": [],
   "source": [
    "# Lists that the data from each json response will be added to\n",
    "article_ids = []\n",
    "fact_data = []\n",
    "author_data = []\n",
    "subject_data = []\n",
    "people_data = []\n",
    "org_data = []\n",
    "loc_data = []\n",
    "# Big text will be a dictionary where we'll add headline, lead paragraph,\n",
    "# abstract and web url\n",
    "big_text = {}"
   ]
  },
  {
   "cell_type": "code",
   "execution_count": 4,
   "metadata": {},
   "outputs": [],
   "source": [
    "data_folder = 'DATA'\n",
    "state = 'TEXAS'\n",
    "# states = [f for f in os.listdir(data_folder) if f != '_Archive']\n",
    "state_folder = os.path.join(data_folder, state)\n",
    "json_files = os.listdir(state_folder)\n",
    "for file in json_files:\n",
    "    filepath = os.path.join(state_folder, file)\n",
    "    json_file = open(filepath, 'r')\n",
    "    data = json.load(json_file)\n",
    "    responses = data['response']['docs']\n",
    "    # Parse each json response in the json file\n",
    "    for respsonse in responses:\n",
    "        j = JSONParse(respsonse)\n",
    "        article_ids.append(j.article_id)\n",
    "        fact_data.append(j.get_article_facts())\n",
    "        extend_list(author_data, j.get_article_authors())\n",
    "        extend_list(subject_data, j.search_article_keywords('subject'))\n",
    "        extend_list(people_data, j.search_article_keywords('persons'))\n",
    "        extend_list(org_data, j.search_article_keywords('organizations'))\n",
    "        extend_list(loc_data, j.search_article_keywords('glocations'))\n",
    "        id_text_dict = {\n",
    "            j.article_id:{\n",
    "                            'headline':j.get_text('headline')[1],\n",
    "                            'abstract':j.get_text('abstract')[1],\n",
    "                            'lead_paragraph':j.get_text('lead_paragraph')[1],\n",
    "                            'web_url':j.get_text('web_url')[1]\n",
    "                        }\n",
    "            }\n",
    "        big_text.update(id_text_dict)"
   ]
  },
  {
   "cell_type": "code",
   "execution_count": 5,
   "metadata": {},
   "outputs": [],
   "source": [
    "spark = SparkSession.\\\n",
    "        builder.\\\n",
    "        appName('NYT_JSON_ETL').\\\n",
    "        master('local[1]').\\\n",
    "        getOrCreate()"
   ]
  },
  {
   "cell_type": "code",
   "execution_count": 6,
   "metadata": {},
   "outputs": [],
   "source": [
    "#For each result get the column headers for the resulting\n",
    "#dataframe\n",
    "def get_table_headers(table):\n",
    "\n",
    "    table_col_dict = {\n",
    "        'facts':['article_id', 'publication_date',\n",
    "                            'word_count', 'total_keywords',\n",
    "                            'total_authors', 'words_in_headline',\n",
    "                            'in_print', 'print_page', 'print_section',\n",
    "                            'news_desk', 'section_name', 'article_type'],\n",
    "        'authors':['article_id', 'rank', 'role',\n",
    "                            'firstname', 'middlename', 'lastname', 'qualifier'],\n",
    "        'subjects':['article_id', 'rank', 'name', 'value', 'major'],\n",
    "        'text':['article_id', 'text']\n",
    "    }\n",
    "\n",
    "    headers = table_col_dict.get(table)\n",
    "    return(headers)"
   ]
  },
  {
   "cell_type": "code",
   "execution_count": 112,
   "metadata": {},
   "outputs": [],
   "source": [
    "#Create spark dfs\n",
    "facts = spark.createDataFrame(fact_data, schema=get_table_headers('facts'))\n",
    "authors = spark.createDataFrame(author_data, schema=get_table_headers('authors'))\n",
    "subjects = spark.createDataFrame(subject_data, schema=get_table_headers('subjects'))\n",
    "people = spark.createDataFrame(people_data, schema=get_table_headers('subjects'))\n",
    "organizations = spark.createDataFrame(org_data, schema=get_table_headers('subjects'))\n",
    "locations = spark.createDataFrame(loc_data, schema=get_table_headers('subjects'))"
   ]
  },
  {
   "cell_type": "markdown",
   "metadata": {},
   "source": [
    "### Step 1: Create Primary Keys in tables"
   ]
  },
  {
   "cell_type": "code",
   "execution_count": 113,
   "metadata": {},
   "outputs": [],
   "source": [
    "# First step is to create an interger primary key for the article_ids\n",
    "ids = [(e + 1000, i) for e, i in enumerate(article_ids)]\n",
    "# Create spark df out of id list\n",
    "# Integer Primary Key is fact_id\n",
    "id_schema = StructType([\n",
    "    StructField('fact_id', IntegerType(), False),\n",
    "    StructField('article_id', StringType(), False)\n",
    "    ])\n",
    "\n",
    "### THIS SHOULD NOT CHANGE ANY FURTHER\n",
    "id_df = spark.createDataFrame(ids, schema=id_schema)\n",
    "\n",
    "\n",
    "\n",
    "#Merge the id_df dataframe into the existing frames\n",
    "# To put fact_id in all the other tables\n",
    "facts = id_df.join(facts, ['article_id'], how = 'inner').drop('article_id')\n",
    "authors = id_df.join(authors, ['article_id'], how = 'inner').drop('article_id')\n",
    "subjects = id_df.join(subjects, ['article_id'], how = 'inner').drop('article_id')\n",
    "people = id_df.join(people, ['article_id'], how = 'inner').drop('article_id')\n",
    "organizations = id_df.join(organizations, ['article_id'], how = 'inner').drop('article_id')\n",
    "locations = id_df.join(locations, ['article_id'], how = 'inner').drop('article_id')"
   ]
  },
  {
   "cell_type": "code",
   "execution_count": 114,
   "metadata": {},
   "outputs": [],
   "source": [
    "# Union the subjects, organizations, and locations dfs togehter\n",
    "places_and_things = subjects.union(organizations).union(locations).orderBy(['fact_id', 'rank'])\n",
    "\n",
    "#"
   ]
  },
  {
   "cell_type": "code",
   "execution_count": 115,
   "metadata": {},
   "outputs": [
    {
     "name": "stdout",
     "output_type": "stream",
     "text": [
      "+-------+----+----------+------+-----+--------+\n",
      "|fact_id|rank|      name| value|major|table_id|\n",
      "+-------+----+----------+------+-----+--------+\n",
      "|   1000|   1|glocations| Texas|    N|1000.001|\n",
      "|   1000|   3|   subject|Ethics|    N|1000.002|\n",
      "+-------+----+----------+------+-----+--------+\n",
      "only showing top 2 rows\n",
      "\n",
      "+-------+----+--------+---------+----------+--------+---------+--------+\n",
      "|fact_id|rank|    role|firstname|middlename|lastname|qualifier|table_id|\n",
      "+-------+----+--------+---------+----------+--------+---------+--------+\n",
      "|   1000|   1|reported|    Steve|    Barnes|     NYT|     NULL|1000.001|\n",
      "|   1003|   1|reported|  Michael|      NULL|    NULL|     NULL|1003.001|\n",
      "+-------+----+--------+---------+----------+--------+---------+--------+\n",
      "only showing top 2 rows\n",
      "\n",
      "+-------+----+-------+----------------+-----+--------+\n",
      "|fact_id|rank|   name|           value|major|table_id|\n",
      "+-------+----+-------+----------------+-----+--------+\n",
      "|   1000|   2|persons|ROACH, RICHARD J|    N|1000.001|\n",
      "|   1001|   5|persons| Trump, Donald J|    N|1001.001|\n",
      "+-------+----+-------+----------------+-----+--------+\n",
      "only showing top 2 rows\n",
      "\n"
     ]
    }
   ],
   "source": [
    "#Create window function to partition by id and order by rank\n",
    "window = Window().partitionBy('fact_id').orderBy('rank')\n",
    "# Create primary key for places_and_things, authors, and people dataframes\n",
    "def create_primary_key(df, key_name, article_id, w):\n",
    "    #Create window function to partition by id and order by rank\n",
    "    window = w\n",
    "    #Row number\n",
    "    df = df.withColumn(key_name, f.row_number().over(window))\n",
    "    #Divide each row number by 1000 to get a decimal representation\n",
    "    df = df.withColumn(key_name, f.col(key_name) / 1000)\n",
    "    #Add the decimal to the id column (primary key for fact dataframe) to create a logical\n",
    "    #Key representation\n",
    "    df = df.withColumn(key_name, f.col(article_id) + f.col(key_name))\n",
    "    return(df)\n",
    "\n",
    "places_and_things = create_primary_key(places_and_things, 'table_id', 'fact_id', window)\n",
    "authors = create_primary_key(authors, 'table_id', 'fact_id', window)\n",
    "people = create_primary_key(people, 'table_id', 'fact_id', window)\n",
    "places_and_things.show(2)\n",
    "authors.show(2)\n",
    "people.show(2)\n"
   ]
  },
  {
   "cell_type": "markdown",
   "metadata": {},
   "source": [
    "### Step 2: Text standardization"
   ]
  },
  {
   "cell_type": "code",
   "execution_count": 116,
   "metadata": {},
   "outputs": [],
   "source": [
    "dim_folder = os.path.join('DATA', 'DIM_TABLES')\n",
    "dim_news_desk = os.path.join(dim_folder, 'news_desks.csv')\n",
    "dim_types = os.path.join(dim_folder, 'article_types.csv')\n",
    "dim_sections = os.path.join(dim_folder, 'section_names.csv')\n",
    "\n",
    "news_desk_df = spark.read.option('header', True).csv(dim_news_desk)\n",
    "material_df = spark.read.option('header', True).csv(dim_types)\n",
    "section_df = spark.read.option('header', True).csv(dim_sections)"
   ]
  },
  {
   "cell_type": "code",
   "execution_count": 132,
   "metadata": {},
   "outputs": [
    {
     "name": "stdout",
     "output_type": "stream",
     "text": [
      "+-------+----------------+----------+--------------+-------------+-----------------+--------+----------+-------------+---------+------------+--------------------+\n",
      "|fact_id|publication_date|word_count|total_keywords|total_authors|words_in_headline|in_print|print_page|print_section|news_desk|section_name|        article_type|\n",
      "+-------+----------------+----------+--------------+-------------+-----------------+--------+----------+-------------+---------+------------+--------------------+\n",
      "|   1083|      2015-11-13|       564|             5|            1|                8|    true|         4|           TR|   Travel|      Travel|                News|\n",
      "|   1062|      2010-04-08|       853|             6|            1|                7|    true|        21|            A| National|     Science|                News|\n",
      "|   1005|      2000-11-12|      1003|             6|            1|               11|    true|        22|            1| National|        U.S.|                News|\n",
      "|   1039|      2005-09-29|      1133|            18|            1|                9|    true|         1|            A| National|        U.S.|An Analysis; News...|\n",
      "|   1040|      2015-04-11|      1044|             8|            1|               10|    true|         9|            A| National|        U.S.|                News|\n",
      "|   1045|      2013-11-30|      1115|             4|            1|                8|    true|       35A|            A| National|        U.S.|                News|\n",
      "|   1069|      2014-02-21|       675|             4|            1|                7|    true|       21A|            A| National|        U.S.|                News|\n",
      "|   1016|      2001-06-12|       821|             6|            1|                8|    true|        22|            A| National|        U.S.|                News|\n",
      "|   1085|      2016-01-29|       643|             7|            1|               13|    true|        13|            A| National|        U.S.|                News|\n",
      "|   1094|      2002-05-29|       740|             9|            1|               10|    true|        14|            A| National|        U.S.|                News|\n",
      "|   1092|      2021-09-20|      1297|             4|            1|               11|    true|        21|            A|     OpEd|     Opinion|               Op-Ed|\n",
      "|   1027|      2001-02-24|       423|             9|            0|                3|   false|      NULL|         NULL|     NULL|        U.S.|                News|\n",
      "|   1095|      2012-06-16|       709|             4|            1|                7|    true|       25A|            A| National|        U.S.|                News|\n",
      "|   1002|      2005-12-05|       689|            13|            0|                3|    true|        22|            A|Editorial|     Opinion|           Editorial|\n",
      "|   1073|      2022-12-15|      1113|             8|            1|               13|    true|        14|            A| National|        U.S.|                News|\n",
      "|   1076|      2021-10-01|       965|             9|            1|               10|   false|      NULL|         NULL|     OpEd|     Opinion|               Op-Ed|\n",
      "|   1048|      2010-03-03|      1286|             8|            2|                8|    true|         1|            A| National|        U.S.|                News|\n",
      "|   1044|      2001-06-02|       896|            43|            0|                2|   false|      NULL|         NULL|     NULL|        U.S.|                News|\n",
      "|   1093|      2000-05-17|       171|             6|            0|                6|    true|        22|            A|Editorial|     Opinion|              Letter|\n",
      "|   1091|      2014-05-16|       697|             6|            1|               12|    true|        15|            A| National|        U.S.|                News|\n",
      "+-------+----------------+----------+--------------+-------------+-----------------+--------+----------+-------------+---------+------------+--------------------+\n",
      "only showing top 20 rows\n",
      "\n"
     ]
    }
   ],
   "source": [
    "# #replace any 'None' strings with None type\n",
    "# facts = facts.withColumn('news_desk', f.when(facts['news_desk'] == 'None', None).otherwise(facts['news_desk']))\n",
    "# #Get distinct values where not null\n",
    "# distincts = facts.where(facts['news_desk'].isNotNull()).select(facts['news_desk']).distinct()\n",
    "# #Get values that aren't in the dimensional tables\n",
    "# distincts = distincts.join(news_desk_df, ['news_desk'], how = 'left')\n",
    "# dirty_text = distincts.where(distincts['news_desk_id'].isNull()).select(distincts['news_desk'].alias('dirty_text'))\n",
    "# #Cross join and calculate levenshtein distance\n",
    "# dirty_text = dirty_text.crossJoin(news_desk_df).select(['dirty_text', 'news_desk'])\n",
    "# dirty_text = dirty_text.withColumn('levenshtein', f.levenshtein('dirty_text', 'news_desk'))\n",
    "# #Get min levenshtein distance for each dirty text\n",
    "# #Min = best match\n",
    "# min_lev = dirty_text.groupBy('dirty_text').agg(f.min('levenshtein').alias('levenshtein'))\n",
    "# dirty_text = dirty_text.join(min_lev, ['dirty_text' , 'levenshtein'])\n",
    "\n",
    "# #In case there are no good matches use row number and grab first one\n",
    "# window = Window().partitionBy('dirty_text').orderBy('dirty_text')\n",
    "# dirty_text = dirty_text.withColumn('row_num', f.row_number().over(window))\n",
    "# dirty_text = dirty_text.where(dirty_text['row_num']== 1).select(['dirty_text', 'news_desk'])\n",
    "# text_mapping = {row['dirty_text']:row['news_desk'] for row in dirty_text.rdd.collect()}\n",
    "# facts = facts.replace(text_mapping, subset = ['news_desk'])\n",
    "\n",
    "\n",
    "\n",
    "\n"
   ]
  },
  {
   "cell_type": "code",
   "execution_count": 133,
   "metadata": {},
   "outputs": [],
   "source": [
    "def clean_text(clean_df, clean_col, dim_df):\n",
    "    #clean_df = the dataframe to be cleaned\n",
    "    #clean_col = the column to be cleaned\n",
    "    #dim_df = the dimensional table to clean with\n",
    "\n",
    "    #replace any 'None' strings with None type\n",
    "    clean_df = clean_df.withColumn(clean_col, f.when(clean_df[clean_col] == 'None', None).otherwise(clean_df[clean_col]))\n",
    "    #Get distinct values where not null\n",
    "    distincts = clean_df.where(clean_df[clean_col].isNotNull()).select(clean_df[clean_col]).distinct()\n",
    "    #Get values that aren't in the dimensional tables\n",
    "    distincts = distincts.join(dim_df, [clean_col], how = 'left')\n",
    "    #get the id column from the dimensional table\n",
    "    id_col = f'{clean_col}_id'\n",
    "    dirty_text = distincts.where(distincts[id_col].isNull()).select(distincts[clean_col].alias('dirty_text'))\n",
    "    #Cross join and calculate levenshtein distance\n",
    "    dirty_text = dirty_text.crossJoin(dim_df).select(['dirty_text', clean_col])\n",
    "    dirty_text = dirty_text.withColumn('levenshtein', f.levenshtein('dirty_text', clean_col))\n",
    "\n",
    "    #Get min levenshtein distance for each dirty text\n",
    "    #Min = best match\n",
    "    min_lev = dirty_text.groupBy('dirty_text').agg(f.min('levenshtein').alias('levenshtein'))\n",
    "    dirty_text = dirty_text.join(min_lev, ['dirty_text' , 'levenshtein'])\n",
    "\n",
    "    #In case there are no good matches use row number and grab first one\n",
    "    window = Window().partitionBy('dirty_text').orderBy('dirty_text')\n",
    "    dirty_text = dirty_text.withColumn('row_num', f.row_number().over(window))\n",
    "    dirty_text = dirty_text.where(dirty_text['row_num']== 1).select(['dirty_text', clean_col])\n",
    "    text_mapping = {row['dirty_text']:row[clean_col] for row in dirty_text.rdd.collect()}\n",
    "    clean_df = clean_df.replace(text_mapping, subset = [clean_col])\n",
    "    return(clean_df)\n",
    "\n",
    "\n",
    "\n"
   ]
  },
  {
   "cell_type": "code",
   "execution_count": 135,
   "metadata": {},
   "outputs": [
    {
     "name": "stdout",
     "output_type": "stream",
     "text": [
      "+-------+----------------+----------+--------------+-------------+-----------------+--------+----------+-------------+--------------+------------+-------------+\n",
      "|fact_id|publication_date|word_count|total_keywords|total_authors|words_in_headline|in_print|print_page|print_section|     news_desk|section_name| article_type|\n",
      "+-------+----------------+----------+--------------+-------------+-----------------+--------+----------+-------------+--------------+------------+-------------+\n",
      "|   1083|      2015-11-13|       564|             5|            1|                8|    true|         4|           TR|        Travel|      Travel|         News|\n",
      "|   1062|      2010-04-08|       853|             6|            1|                7|    true|        21|            A|      National|     Science|         News|\n",
      "|   1005|      2000-11-12|      1003|             6|            1|               11|    true|        22|            1| National Desk|        U.S.|         News|\n",
      "|   1039|      2005-09-29|      1133|            18|            1|                9|    true|         1|            A| National Desk|        U.S.|News Analysis|\n",
      "|   1040|      2015-04-11|      1044|             8|            1|               10|    true|         9|            A|      National|        U.S.|         News|\n",
      "|   1045|      2013-11-30|      1115|             4|            1|                8|    true|       35A|            A|      National|        U.S.|         News|\n",
      "|   1069|      2014-02-21|       675|             4|            1|                7|    true|       21A|            A|      National|        U.S.|         News|\n",
      "|   1016|      2001-06-12|       821|             6|            1|                8|    true|        22|            A| National Desk|        U.S.|         News|\n",
      "|   1085|      2016-01-29|       643|             7|            1|               13|    true|        13|            A|      National|        U.S.|         News|\n",
      "|   1094|      2002-05-29|       740|             9|            1|               10|    true|        14|            A| National Desk|        U.S.|         News|\n",
      "|   1092|      2021-09-20|      1297|             4|            1|               11|    true|        21|            A|          OpEd|     Opinion|        Op-Ed|\n",
      "|   1027|      2001-02-24|       423|             9|            0|                3|   false|      NULL|         NULL|          NULL|        U.S.|         News|\n",
      "|   1095|      2012-06-16|       709|             4|            1|                7|    true|       25A|            A|      National|        U.S.|         News|\n",
      "|   1002|      2005-12-05|       689|            13|            0|                3|    true|        22|            A|Editorial Desk|     Opinion|    Editorial|\n",
      "|   1073|      2022-12-15|      1113|             8|            1|               13|    true|        14|            A|      National|        U.S.|         News|\n",
      "|   1076|      2021-10-01|       965|             9|            1|               10|   false|      NULL|         NULL|          OpEd|     Opinion|        Op-Ed|\n",
      "|   1048|      2010-03-03|      1286|             8|            2|                8|    true|         1|            A|      National|        U.S.|         News|\n",
      "|   1044|      2001-06-02|       896|            43|            0|                2|   false|      NULL|         NULL|          NULL|        U.S.|         News|\n",
      "|   1093|      2000-05-17|       171|             6|            0|                6|    true|        22|            A|Editorial Desk|     Opinion|       Letter|\n",
      "|   1091|      2014-05-16|       697|             6|            1|               12|    true|        15|            A|      National|        U.S.|         News|\n",
      "+-------+----------------+----------+--------------+-------------+-----------------+--------+----------+-------------+--------------+------------+-------------+\n",
      "only showing top 20 rows\n",
      "\n"
     ]
    }
   ],
   "source": [
    "facts = clean_text(facts, 'article_type', material_df)\n",
    "facts = clean_text(facts, 'news_desk', news_desk_df)\n",
    "facts = clean_text(facts, 'section_name', section_df)\n",
    "facts.show()\n"
   ]
  },
  {
   "cell_type": "code",
   "execution_count": 104,
   "metadata": {},
   "outputs": [
    {
     "name": "stdout",
     "output_type": "stream",
     "text": [
      "+-------+----------------+----------+--------------+-------------+-----------------+--------+----------+-------------+--------------+------------+--------------------+\n",
      "|fact_id|publication_date|word_count|total_keywords|total_authors|words_in_headline|in_print|print_page|print_section|     news_desk|section_name|        article_type|\n",
      "+-------+----------------+----------+--------------+-------------+-----------------+--------+----------+-------------+--------------+------------+--------------------+\n",
      "|   1083|      2015-11-13|       564|             5|            1|                8|    true|         4|           TR|        Travel|      Travel|                News|\n",
      "|   1062|      2010-04-08|       853|             6|            1|                7|    true|        21|            A|      National|     Science|                News|\n",
      "|   1005|      2000-11-12|      1003|             6|            1|               11|    true|        22|            1| National Desk|        U.S.|                News|\n",
      "|   1039|      2005-09-29|      1133|            18|            1|                9|    true|         1|            A| National Desk|        U.S.|An Analysis; News...|\n",
      "|   1040|      2015-04-11|      1044|             8|            1|               10|    true|         9|            A|      National|        U.S.|                News|\n",
      "|   1045|      2013-11-30|      1115|             4|            1|                8|    true|       35A|            A|      National|        U.S.|                News|\n",
      "|   1069|      2014-02-21|       675|             4|            1|                7|    true|       21A|            A|      National|        U.S.|                News|\n",
      "|   1016|      2001-06-12|       821|             6|            1|                8|    true|        22|            A| National Desk|        U.S.|                News|\n",
      "|   1085|      2016-01-29|       643|             7|            1|               13|    true|        13|            A|      National|        U.S.|                News|\n",
      "|   1094|      2002-05-29|       740|             9|            1|               10|    true|        14|            A| National Desk|        U.S.|                News|\n",
      "|   1092|      2021-09-20|      1297|             4|            1|               11|    true|        21|            A|          OpEd|     Opinion|               Op-Ed|\n",
      "|   1027|      2001-02-24|       423|             9|            0|                3|   false|      NULL|         NULL|          None|        U.S.|                News|\n",
      "|   1095|      2012-06-16|       709|             4|            1|                7|    true|       25A|            A|      National|        U.S.|                News|\n",
      "|   1002|      2005-12-05|       689|            13|            0|                3|    true|        22|            A|Editorial Desk|     Opinion|           Editorial|\n",
      "|   1073|      2022-12-15|      1113|             8|            1|               13|    true|        14|            A|      National|        U.S.|                News|\n",
      "|   1076|      2021-10-01|       965|             9|            1|               10|   false|      NULL|         NULL|          OpEd|     Opinion|               Op-Ed|\n",
      "|   1048|      2010-03-03|      1286|             8|            2|                8|    true|         1|            A|      National|        U.S.|                News|\n",
      "|   1044|      2001-06-02|       896|            43|            0|                2|   false|      NULL|         NULL|          None|        U.S.|                News|\n",
      "|   1093|      2000-05-17|       171|             6|            0|                6|    true|        22|            A|Editorial Desk|     Opinion|              Letter|\n",
      "|   1091|      2014-05-16|       697|             6|            1|               12|    true|        15|            A|      National|        U.S.|                News|\n",
      "+-------+----------------+----------+--------------+-------------+-----------------+--------+----------+-------------+--------------+------------+--------------------+\n",
      "only showing top 20 rows\n",
      "\n"
     ]
    }
   ],
   "source": [
    "facts.show()\n",
    "\n",
    "\n"
   ]
  },
  {
   "cell_type": "code",
   "execution_count": 91,
   "metadata": {},
   "outputs": [
    {
     "name": "stdout",
     "output_type": "stream",
     "text": [
      "+--------------+-------+----------------+----------+--------------+-------------+-----------------+--------+----------+-------------+------------+--------------------+------------+\n",
      "|     news_desk|fact_id|publication_date|word_count|total_keywords|total_authors|words_in_headline|in_print|print_page|print_section|section_name|        article_type|news_desk_id|\n",
      "+--------------+-------+----------------+----------+--------------+-------------+-----------------+--------+----------+-------------+------------+--------------------+------------+\n",
      "|        Travel|   1083|      2015-11-13|       564|             5|            1|                8|    true|         4|           TR|      Travel|                News|          87|\n",
      "|      National|   1062|      2010-04-08|       853|             6|            1|                7|    true|        21|            A|     Science|                News|          47|\n",
      "| National Desk|   1005|      2000-11-12|      1003|             6|            1|               11|    true|        22|            1|        U.S.|                News|        NULL|\n",
      "| National Desk|   1039|      2005-09-29|      1133|            18|            1|                9|    true|         1|            A|        U.S.|An Analysis; News...|        NULL|\n",
      "|      National|   1040|      2015-04-11|      1044|             8|            1|               10|    true|         9|            A|        U.S.|                News|          47|\n",
      "|      National|   1045|      2013-11-30|      1115|             4|            1|                8|    true|       35A|            A|        U.S.|                News|          47|\n",
      "|      National|   1069|      2014-02-21|       675|             4|            1|                7|    true|       21A|            A|        U.S.|                News|          47|\n",
      "| National Desk|   1016|      2001-06-12|       821|             6|            1|                8|    true|        22|            A|        U.S.|                News|        NULL|\n",
      "|      National|   1085|      2016-01-29|       643|             7|            1|               13|    true|        13|            A|        U.S.|                News|          47|\n",
      "| National Desk|   1094|      2002-05-29|       740|             9|            1|               10|    true|        14|            A|        U.S.|                News|        NULL|\n",
      "|          OpEd|   1092|      2021-09-20|      1297|             4|            1|               11|    true|        21|            A|     Opinion|               Op-Ed|          50|\n",
      "|          NULL|   1027|      2001-02-24|       423|             9|            0|                3|   false|      NULL|         NULL|        U.S.|                News|        NULL|\n",
      "|      National|   1095|      2012-06-16|       709|             4|            1|                7|    true|       25A|            A|        U.S.|                News|          47|\n",
      "|Editorial Desk|   1002|      2005-12-05|       689|            13|            0|                3|    true|        22|            A|     Opinion|           Editorial|        NULL|\n",
      "|      National|   1073|      2022-12-15|      1113|             8|            1|               13|    true|        14|            A|        U.S.|                News|          47|\n",
      "|          OpEd|   1076|      2021-10-01|       965|             9|            1|               10|   false|      NULL|         NULL|     Opinion|               Op-Ed|          50|\n",
      "|      National|   1048|      2010-03-03|      1286|             8|            2|                8|    true|         1|            A|        U.S.|                News|          47|\n",
      "|          NULL|   1044|      2001-06-02|       896|            43|            0|                2|   false|      NULL|         NULL|        U.S.|                News|        NULL|\n",
      "|Editorial Desk|   1093|      2000-05-17|       171|             6|            0|                6|    true|        22|            A|     Opinion|              Letter|        NULL|\n",
      "|      National|   1091|      2014-05-16|       697|             6|            1|               12|    true|        15|            A|        U.S.|                News|          47|\n",
      "+--------------+-------+----------------+----------+--------------+-------------+-----------------+--------+----------+-------------+------------+--------------------+------------+\n",
      "only showing top 20 rows\n",
      "\n"
     ]
    }
   ],
   "source": [
    "facts.show()"
   ]
  }
 ],
 "metadata": {
  "kernelspec": {
   "display_name": "Python 3",
   "language": "python",
   "name": "python3"
  },
  "language_info": {
   "codemirror_mode": {
    "name": "ipython",
    "version": 3
   },
   "file_extension": ".py",
   "mimetype": "text/x-python",
   "name": "python",
   "nbconvert_exporter": "python",
   "pygments_lexer": "ipython3",
   "version": "3.10.11"
  }
 },
 "nbformat": 4,
 "nbformat_minor": 2
}
