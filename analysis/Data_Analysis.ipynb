{
 "cells": [
  {
   "cell_type": "code",
   "execution_count": 1,
   "metadata": {},
   "outputs": [],
   "source": [
    "import pandas as pd\n",
    "import geopandas\n",
    "from matplotlib import pyplot as plt\n",
    "from pyspark.sql import SparkSession\n",
    "from spark_job_functions import spark_config\n",
    "import os\n"
   ]
  },
  {
   "cell_type": "code",
   "execution_count": 2,
   "metadata": {},
   "outputs": [],
   "source": [
    "iceberg_warehouse = os.environ.get('ICEBERG_WAREHOUSE')\n",
    "spark = SparkSession.builder.config(conf=spark_config(iceberg_warehouse)).getOrCreate()"
   ]
  },
  {
   "cell_type": "markdown",
   "metadata": {},
   "source": [
    "### Read in fact table and add geometry for plots"
   ]
  },
  {
   "cell_type": "code",
   "execution_count": 23,
   "metadata": {},
   "outputs": [],
   "source": [
    "#read in fact & subject tables convert to pandasdf\n",
    "\n",
    "#fact table\n",
    "facts = spark.sql('SELECT * FROM nyt.db.facts')\n",
    "facts = facts.toPandas()\n",
    "\n",
    "# subject table that has state names\n",
    "subjects = spark.sql('SELECT * FROM nyt.db.subject_others')\n",
    "subjects = subjects.toPandas()\n",
    "\n",
    "\n"
   ]
  },
  {
   "cell_type": "code",
   "execution_count": 24,
   "metadata": {},
   "outputs": [
    {
     "name": "stdout",
     "output_type": "stream",
     "text": [
      "+----------+-------------+\n",
      "|subject_id| subject_name|\n",
      "+----------+-------------+\n",
      "|         1|      persons|\n",
      "|         2|organizations|\n",
      "|         3|   glocations|\n",
      "|         4|      subject|\n",
      "+----------+-------------+\n",
      "\n"
     ]
    }
   ],
   "source": [
    "#Check dim_subjects to filter down subject table with just geolocation\n",
    "subject_ids = spark.sql('SELECT * FROM nyt.db.dim_subject_ids')\n",
    "subject_ids.show()\n",
    "#Need to filter on id 3 in subjects df"
   ]
  },
  {
   "cell_type": "code",
   "execution_count": 31,
   "metadata": {},
   "outputs": [
    {
     "data": {
      "text/html": [
       "<div>\n",
       "<style scoped>\n",
       "    .dataframe tbody tr th:only-of-type {\n",
       "        vertical-align: middle;\n",
       "    }\n",
       "\n",
       "    .dataframe tbody tr th {\n",
       "        vertical-align: top;\n",
       "    }\n",
       "\n",
       "    .dataframe thead th {\n",
       "        text-align: right;\n",
       "    }\n",
       "</style>\n",
       "<table border=\"1\" class=\"dataframe\">\n",
       "  <thead>\n",
       "    <tr style=\"text-align: right;\">\n",
       "      <th></th>\n",
       "      <th>fact_id</th>\n",
       "      <th>state</th>\n",
       "    </tr>\n",
       "  </thead>\n",
       "  <tbody>\n",
       "    <tr>\n",
       "      <th>0</th>\n",
       "      <td>1000</td>\n",
       "      <td>Alabama</td>\n",
       "    </tr>\n",
       "    <tr>\n",
       "      <th>5</th>\n",
       "      <td>1001</td>\n",
       "      <td>Nevada</td>\n",
       "    </tr>\n",
       "    <tr>\n",
       "      <th>6</th>\n",
       "      <td>1001</td>\n",
       "      <td>Alabama</td>\n",
       "    </tr>\n",
       "    <tr>\n",
       "      <th>15</th>\n",
       "      <td>1002</td>\n",
       "      <td>Alabama</td>\n",
       "    </tr>\n",
       "    <tr>\n",
       "      <th>18</th>\n",
       "      <td>1003</td>\n",
       "      <td>Alabama</td>\n",
       "    </tr>\n",
       "  </tbody>\n",
       "</table>\n",
       "</div>"
      ],
      "text/plain": [
       "    fact_id    state\n",
       "0      1000  Alabama\n",
       "5      1001   Nevada\n",
       "6      1001  Alabama\n",
       "15     1002  Alabama\n",
       "18     1003  Alabama"
      ]
     },
     "execution_count": 31,
     "metadata": {},
     "output_type": "execute_result"
    }
   ],
   "source": [
    "geo_subjects = subjects.loc[subjects['subject_id'] == 3][['fact_id', 'subject']].rename(columns = {'subject':'state'})\n",
    "geo_subjects['state'] = geo_subjects['state'].str.title()\n",
    "geo_subjects.head(5)"
   ]
  },
  {
   "cell_type": "code",
   "execution_count": 37,
   "metadata": {},
   "outputs": [
    {
     "name": "stdout",
     "output_type": "stream",
     "text": [
      "9492\n"
     ]
    }
   ],
   "source": [
    "print(len(geo_subjects))\n",
    "#Add geometry to geo_subjects\n",
    "geo_data_path = r'DATA\\state_shapes\\tl_2023_us_state.shp'\n",
    "geo_data = geopandas.read_file(geo_data_path)\n",
    "state_filter = list(geo_data['NAME'].unique())"
   ]
  },
  {
   "cell_type": "code",
   "execution_count": 38,
   "metadata": {},
   "outputs": [
    {
     "data": {
      "text/plain": [
       "51"
      ]
     },
     "execution_count": 38,
     "metadata": {},
     "output_type": "execute_result"
    }
   ],
   "source": [
    "geo_subjects = geo_subjects.loc[geo_subjects['state'].isin(state_filter)]\n",
    "geo_subjects['state'].nunique()"
   ]
  },
  {
   "cell_type": "code",
   "execution_count": 40,
   "metadata": {},
   "outputs": [
    {
     "data": {
      "text/html": [
       "<div>\n",
       "<style scoped>\n",
       "    .dataframe tbody tr th:only-of-type {\n",
       "        vertical-align: middle;\n",
       "    }\n",
       "\n",
       "    .dataframe tbody tr th {\n",
       "        vertical-align: top;\n",
       "    }\n",
       "\n",
       "    .dataframe thead th {\n",
       "        text-align: right;\n",
       "    }\n",
       "</style>\n",
       "<table border=\"1\" class=\"dataframe\">\n",
       "  <thead>\n",
       "    <tr style=\"text-align: right;\">\n",
       "      <th></th>\n",
       "      <th>state</th>\n",
       "      <th>headline_sentiment_score</th>\n",
       "      <th>geometry</th>\n",
       "    </tr>\n",
       "  </thead>\n",
       "  <tbody>\n",
       "    <tr>\n",
       "      <th>0</th>\n",
       "      <td>Alabama</td>\n",
       "      <td>0.193234</td>\n",
       "      <td>POLYGON ((-85.12733 31.76256, -85.12753 31.762...</td>\n",
       "    </tr>\n",
       "    <tr>\n",
       "      <th>1</th>\n",
       "      <td>Alaska</td>\n",
       "      <td>0.364323</td>\n",
       "      <td>MULTIPOLYGON (((-179.23023 51.28393, -179.2256...</td>\n",
       "    </tr>\n",
       "    <tr>\n",
       "      <th>2</th>\n",
       "      <td>Arizona</td>\n",
       "      <td>0.243752</td>\n",
       "      <td>POLYGON ((-110.75069 37.00301, -110.74193 37.0...</td>\n",
       "    </tr>\n",
       "    <tr>\n",
       "      <th>3</th>\n",
       "      <td>Arkansas</td>\n",
       "      <td>0.214517</td>\n",
       "      <td>POLYGON ((-90.95577 34.11871, -90.95451 34.117...</td>\n",
       "    </tr>\n",
       "    <tr>\n",
       "      <th>4</th>\n",
       "      <td>California</td>\n",
       "      <td>0.258490</td>\n",
       "      <td>MULTIPOLYGON (((-119.99987 41.18397, -119.9998...</td>\n",
       "    </tr>\n",
       "  </tbody>\n",
       "</table>\n",
       "</div>"
      ],
      "text/plain": [
       "        state  headline_sentiment_score  \\\n",
       "0     Alabama                  0.193234   \n",
       "1      Alaska                  0.364323   \n",
       "2     Arizona                  0.243752   \n",
       "3    Arkansas                  0.214517   \n",
       "4  California                  0.258490   \n",
       "\n",
       "                                            geometry  \n",
       "0  POLYGON ((-85.12733 31.76256, -85.12753 31.762...  \n",
       "1  MULTIPOLYGON (((-179.23023 51.28393, -179.2256...  \n",
       "2  POLYGON ((-110.75069 37.00301, -110.74193 37.0...  \n",
       "3  POLYGON ((-90.95577 34.11871, -90.95451 34.117...  \n",
       "4  MULTIPOLYGON (((-119.99987 41.18397, -119.9998...  "
      ]
     },
     "execution_count": 40,
     "metadata": {},
     "output_type": "execute_result"
    }
   ],
   "source": [
    "#Find average sentiment score by state and plot\n",
    "\n",
    "avg_sentiment = facts.merge(geo_subjects[['fact_id', 'state']], on = ['fact_id'])\n",
    "avg_sentiment = avg_sentiment.groupby(['state'])['headline_sentiment_score'].mean().reset_index()\n",
    "avg_sentiment = avg_sentiment.sort_values(by = ['state'])\n",
    "\n",
    "avg_sentiment = avg_sentiment.merge(geo_data[['NAME', 'geometry']], left_on = 'state', right_on = 'NAME')\n",
    "avg_sentiment = avg_sentiment.drop(columns = 'NAME')\n",
    "avg_sentiment.head()"
   ]
  },
  {
   "cell_type": "code",
   "execution_count": 48,
   "metadata": {},
   "outputs": [],
   "source": [
    "gdf_sentiment = geopandas.GeoDataFrame(\n",
    "    avg_sentiment\n",
    ")"
   ]
  },
  {
   "cell_type": "code",
   "execution_count": 64,
   "metadata": {},
   "outputs": [
    {
     "data": {
      "image/png": "[encoded data removed]",
      "text/plain": [
       "<Figure size 640x480 with 2 Axes>"
      ]
     },
     "metadata": {},
     "output_type": "display_data"
    }
   ],
   "source": [
    "\n",
    "fig, ax = plt.subplots()\n",
    "ax.title.set_text('New York Times Average Headline Sentiment since 2000')\n",
    "#Only include continental US in plot\n",
    "not_continental = ['Puerto Rico', 'Alaska', 'Hawaii']\n",
    "plot_data = gdf_sentiment.loc[~gdf_sentiment['state'].isin(not_continental)]\n",
    "# include a border\n",
    "plot_data.plot(ax = ax, color='white', edgecolor='black')\n",
    "# plot the map\n",
    "plot_data.plot(\n",
    "    ax = ax,\n",
    "    column = 'headline_sentiment_score',\n",
    "    cmap = 'RdYlGn',\n",
    "    legend = True,\n",
    "    legend_kwds={'label': 'Sentiment Score', 'orientation': 'horizontal'},\n",
    "    figsize = (16, 14)\n",
    ")\n",
    "\n",
    "plt.tick_params(left = False, right = False , labelleft = False , \n",
    "                labelbottom = False, bottom = False)\n",
    "\n",
    "save_path = 'DATA\\sentiment_map.png'\n",
    "plt.savefig(save_path)\n",
    "plt.show()"
   ]
  },
  {
   "cell_type": "code",
   "execution_count": 65,
   "metadata": {},
   "outputs": [
    {
     "data": {
      "text/html": [
       "<div>\n",
       "<style scoped>\n",
       "    .dataframe tbody tr th:only-of-type {\n",
       "        vertical-align: middle;\n",
       "    }\n",
       "\n",
       "    .dataframe tbody tr th {\n",
       "        vertical-align: top;\n",
       "    }\n",
       "\n",
       "    .dataframe thead th {\n",
       "        text-align: right;\n",
       "    }\n",
       "</style>\n",
       "<table border=\"1\" class=\"dataframe\">\n",
       "  <thead>\n",
       "    <tr style=\"text-align: right;\">\n",
       "      <th></th>\n",
       "      <th>fact_id</th>\n",
       "      <th>publication_date</th>\n",
       "      <th>word_count</th>\n",
       "      <th>total_keywords</th>\n",
       "      <th>total_authors</th>\n",
       "      <th>words_in_headline</th>\n",
       "      <th>in_print</th>\n",
       "      <th>print_page</th>\n",
       "      <th>print_section</th>\n",
       "      <th>article_type_id</th>\n",
       "      <th>news_desk_id</th>\n",
       "      <th>section_name_id</th>\n",
       "      <th>headline_sentiment_score</th>\n",
       "      <th>state</th>\n",
       "    </tr>\n",
       "  </thead>\n",
       "  <tbody>\n",
       "    <tr>\n",
       "      <th>0</th>\n",
       "      <td>1580</td>\n",
       "      <td>2018-10-26</td>\n",
       "      <td>2568</td>\n",
       "      <td>8</td>\n",
       "      <td>1</td>\n",
       "      <td>5</td>\n",
       "      <td>True</td>\n",
       "      <td>4.0</td>\n",
       "      <td>SR</td>\n",
       "      <td>33.0</td>\n",
       "      <td>50.0</td>\n",
       "      <td>37</td>\n",
       "      <td>0.99830</td>\n",
       "      <td>Colorado</td>\n",
       "    </tr>\n",
       "    <tr>\n",
       "      <th>1</th>\n",
       "      <td>1342</td>\n",
       "      <td>2011-04-17</td>\n",
       "      <td>189</td>\n",
       "      <td>3</td>\n",
       "      <td>1</td>\n",
       "      <td>9</td>\n",
       "      <td>False</td>\n",
       "      <td>NaN</td>\n",
       "      <td>None</td>\n",
       "      <td>NaN</td>\n",
       "      <td>NaN</td>\n",
       "      <td>42</td>\n",
       "      <td>0.00005</td>\n",
       "      <td>Arkansas</td>\n",
       "    </tr>\n",
       "    <tr>\n",
       "      <th>2</th>\n",
       "      <td>1645</td>\n",
       "      <td>2012-12-29</td>\n",
       "      <td>199</td>\n",
       "      <td>4</td>\n",
       "      <td>0</td>\n",
       "      <td>2</td>\n",
       "      <td>True</td>\n",
       "      <td>16.0</td>\n",
       "      <td>A</td>\n",
       "      <td>26.0</td>\n",
       "      <td>44.0</td>\n",
       "      <td>32</td>\n",
       "      <td>0.12163</td>\n",
       "      <td>New Jersey</td>\n",
       "    </tr>\n",
       "    <tr>\n",
       "      <th>3</th>\n",
       "      <td>1645</td>\n",
       "      <td>2012-12-29</td>\n",
       "      <td>199</td>\n",
       "      <td>4</td>\n",
       "      <td>0</td>\n",
       "      <td>2</td>\n",
       "      <td>True</td>\n",
       "      <td>16.0</td>\n",
       "      <td>A</td>\n",
       "      <td>26.0</td>\n",
       "      <td>44.0</td>\n",
       "      <td>32</td>\n",
       "      <td>0.12163</td>\n",
       "      <td>Connecticut</td>\n",
       "    </tr>\n",
       "    <tr>\n",
       "      <th>4</th>\n",
       "      <td>1238</td>\n",
       "      <td>2019-10-02</td>\n",
       "      <td>1382</td>\n",
       "      <td>6</td>\n",
       "      <td>1</td>\n",
       "      <td>12</td>\n",
       "      <td>True</td>\n",
       "      <td>12.0</td>\n",
       "      <td>A</td>\n",
       "      <td>29.0</td>\n",
       "      <td>56.0</td>\n",
       "      <td>57</td>\n",
       "      <td>0.03309</td>\n",
       "      <td>Arizona</td>\n",
       "    </tr>\n",
       "  </tbody>\n",
       "</table>\n",
       "</div>"
      ],
      "text/plain": [
       "   fact_id publication_date  word_count  total_keywords  total_authors  \\\n",
       "0     1580       2018-10-26        2568               8              1   \n",
       "1     1342       2011-04-17         189               3              1   \n",
       "2     1645       2012-12-29         199               4              0   \n",
       "3     1645       2012-12-29         199               4              0   \n",
       "4     1238       2019-10-02        1382               6              1   \n",
       "\n",
       "   words_in_headline  in_print  print_page print_section  article_type_id  \\\n",
       "0                  5      True         4.0            SR             33.0   \n",
       "1                  9     False         NaN          None              NaN   \n",
       "2                  2      True        16.0             A             26.0   \n",
       "3                  2      True        16.0             A             26.0   \n",
       "4                 12      True        12.0             A             29.0   \n",
       "\n",
       "   news_desk_id  section_name_id  headline_sentiment_score        state  \n",
       "0          50.0               37                   0.99830     Colorado  \n",
       "1           NaN               42                   0.00005     Arkansas  \n",
       "2          44.0               32                   0.12163   New Jersey  \n",
       "3          44.0               32                   0.12163  Connecticut  \n",
       "4          56.0               57                   0.03309      Arizona  "
      ]
     },
     "execution_count": 65,
     "metadata": {},
     "output_type": "execute_result"
    }
   ],
   "source": [
    "non_geo_plots = facts.merge(geo_subjects[['fact_id', 'state']], on = ['fact_id'])\n",
    "non_geo_plots.head()"
   ]
  },
  {
   "cell_type": "code",
   "execution_count": 69,
   "metadata": {},
   "outputs": [
    {
     "data": {
      "text/plain": [
       "in_print\n",
       "False    0.215143\n",
       "True     0.249238\n",
       "Name: headline_sentiment_score, dtype: float32"
      ]
     },
     "execution_count": 69,
     "metadata": {},
     "output_type": "execute_result"
    }
   ],
   "source": [
    "non_geo_plots['publication_date'] = pd.to_datetime(non_geo_plots['publication_date'])\n",
    "non_geo_plots['publication_year'] = non_geo_plots['publication_date'].dt.year\n",
    "non_geo_plots.groupby('in_print')['headline_sentiment_score'].mean()\n"
   ]
  },
  {
   "cell_type": "code",
   "execution_count": null,
   "metadata": {},
   "outputs": [],
   "source": []
  }
 ],
 "metadata": {
  "kernelspec": {
   "display_name": "news",
   "language": "python",
   "name": "python3"
  },
  "language_info": {
   "codemirror_mode": {
    "name": "ipython",
    "version": 3
   },
   "file_extension": ".py",
   "mimetype": "text/x-python",
   "name": "python",
   "nbconvert_exporter": "python",
   "pygments_lexer": "ipython3",
   "version": "3.10.11"
  }
 },
 "nbformat": 4,
 "nbformat_minor": 2
}
